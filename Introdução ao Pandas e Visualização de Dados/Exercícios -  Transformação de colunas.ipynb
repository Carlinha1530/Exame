{
 "cells": [
  {
   "cell_type": "code",
   "execution_count": 2,
   "metadata": {},
   "outputs": [],
   "source": [
    "import pandas as pd"
   ]
  },
  {
   "cell_type": "markdown",
   "metadata": {},
   "source": [
    "### 1. Carregue os dados do arquivo HIST_PAINEL_COVIDBR_23mai2020.xlsx, que contém os dados da COVID-19 nos estados/munícipios do Brasil, em um DataFrame. Em seguida, utilize o método info para verificar o tipo de dado da coluna data. Fazendo isso, você irá notar que o tipo é object, ou seja, trata-se de uma string. Portanto, você deve alterar para o tipo datatime.\n",
    "\n",
    "### No entanto, vamos deixar isso para a próxima questão. Primeiramente, para isso você possa exercitar esse conceito de transformação de colunas, substitua o traço da data pela barra. Em outras palavras, você vai converter de 2020-02-26 para 2020/02/26. Para isso, você deve criar uma função que recebe uma data e retorna essa mesma data com essa substituição (replace). Em seguida, você deve aplicar essa função à coluna data do DataFrame."
   ]
  },
  {
   "cell_type": "code",
   "execution_count": 3,
   "metadata": {},
   "outputs": [
    {
     "name": "stdout",
     "output_type": "stream",
     "text": [
      "<class 'pandas.core.frame.DataFrame'>\n",
      "Index: 0 entries\n",
      "Data columns (total 1 columns):\n",
      " #   Column  Non-Null Count  Dtype \n",
      "---  ------  --------------  ----- \n",
      " 0   regiao  0 non-null      object\n",
      "dtypes: object(1)\n",
      "memory usage: 0.0+ bytes\n"
     ]
    }
   ],
   "source": [
    "df_covid = pd.read_excel('HIST_PAINEL_COVIDBR_23mai2020.xlsx')\n",
    "df_covid.info()"
   ]
  },
  {
   "cell_type": "markdown",
   "metadata": {},
   "source": [
    "### 2. Pronto! Agora que você alterou o formato da data, você deve convertê-la do tipo string para o tipo datatime, assim como você apresentado na Aula 10. Mas observe que, nesse caso, a data está invertida, ou seja, primeiro temos o ano, depois o mês e, por fim, o dia. Logo, você deve utilizar o parâmetro format='%Y/%m/%d'."
   ]
  },
  {
   "cell_type": "code",
   "execution_count": null,
   "metadata": {},
   "outputs": [],
   "source": []
  },
  {
   "cell_type": "markdown",
   "metadata": {},
   "source": [
    "### 3. O arquivo passos.xlsx contém a quantidade de passos de um indivíduo entre os dias 01/06/2020 e 05/06/2020. Sendo assim, carregue esse arquivo em um DataFrame e utilize o método info para ver os atributos de cada coluna. Fazendo isso, você observará que a data, nesse caso, também está no formato de string (object). Logo, faça a conversão para datatime, observando a ordem em que está aparecendo o dia, mês e ano."
   ]
  },
  {
   "cell_type": "code",
   "execution_count": 38,
   "metadata": {},
   "outputs": [
    {
     "name": "stdout",
     "output_type": "stream",
     "text": [
      "<class 'pandas.core.frame.DataFrame'>\n",
      "RangeIndex: 5 entries, 0 to 4\n",
      "Data columns (total 2 columns):\n",
      " #   Column  Non-Null Count  Dtype \n",
      "---  ------  --------------  ----- \n",
      " 0   data    5 non-null      object\n",
      " 1   passos  5 non-null      int64 \n",
      "dtypes: int64(1), object(1)\n",
      "memory usage: 208.0+ bytes\n"
     ]
    }
   ],
   "source": [
    "df_passos = pd.read_excel('passos.xlsx')\n",
    "df_passos.info()"
   ]
  },
  {
   "cell_type": "code",
   "execution_count": 46,
   "metadata": {},
   "outputs": [
    {
     "name": "stdout",
     "output_type": "stream",
     "text": [
      "<class 'pandas.core.frame.DataFrame'>\n",
      "RangeIndex: 5 entries, 0 to 4\n",
      "Data columns (total 2 columns):\n",
      " #   Column  Non-Null Count  Dtype         \n",
      "---  ------  --------------  -----         \n",
      " 0   data    5 non-null      datetime64[ns]\n",
      " 1   passos  5 non-null      object        \n",
      "dtypes: datetime64[ns](1), object(1)\n",
      "memory usage: 208.0+ bytes\n"
     ]
    }
   ],
   "source": [
    "df_passos['data'] = pd.to_datetime(df_passos['data'], format='%d/%m/%Y', errors='coerce')\n",
    "df_passos.info()"
   ]
  },
  {
   "cell_type": "markdown",
   "metadata": {},
   "source": [
    "### 4. Agora, utilizando o mesmo dataframe da questão anterior, você deve indicar se o indivíduo atingiu a sua meta de número de passos diário. Considere que a meta dele é de 4500 passos por dia. Sendo assim, crie uma função que analise a quantidade de passos e retorne 'sim', caso ele tenha alcançado a meta e 'não' caso contrário. Por fim, aplique essa função à coluna passos do DataFrame."
   ]
  },
  {
   "cell_type": "code",
   "execution_count": 49,
   "metadata": {},
   "outputs": [],
   "source": [
    "def passos_alcancados(passos):\n",
    "    if passos > 4500:\n",
    "        return 'Sim'\n",
    "    else:\n",
    "        return 'Não'"
   ]
  },
  {
   "cell_type": "code",
   "execution_count": 55,
   "metadata": {},
   "outputs": [
    {
     "data": {
      "text/html": [
       "<div>\n",
       "<style scoped>\n",
       "    .dataframe tbody tr th:only-of-type {\n",
       "        vertical-align: middle;\n",
       "    }\n",
       "\n",
       "    .dataframe tbody tr th {\n",
       "        vertical-align: top;\n",
       "    }\n",
       "\n",
       "    .dataframe thead th {\n",
       "        text-align: right;\n",
       "    }\n",
       "</style>\n",
       "<table border=\"1\" class=\"dataframe\">\n",
       "  <thead>\n",
       "    <tr style=\"text-align: right;\">\n",
       "      <th></th>\n",
       "      <th>data</th>\n",
       "      <th>passos</th>\n",
       "    </tr>\n",
       "  </thead>\n",
       "  <tbody>\n",
       "    <tr>\n",
       "      <th>0</th>\n",
       "      <td>2020-06-01</td>\n",
       "      <td>Não</td>\n",
       "    </tr>\n",
       "    <tr>\n",
       "      <th>1</th>\n",
       "      <td>2021-06-02</td>\n",
       "      <td>Não</td>\n",
       "    </tr>\n",
       "    <tr>\n",
       "      <th>2</th>\n",
       "      <td>2022-06-03</td>\n",
       "      <td>Sim</td>\n",
       "    </tr>\n",
       "    <tr>\n",
       "      <th>3</th>\n",
       "      <td>2023-06-04</td>\n",
       "      <td>Não</td>\n",
       "    </tr>\n",
       "    <tr>\n",
       "      <th>4</th>\n",
       "      <td>2024-06-05</td>\n",
       "      <td>Sim</td>\n",
       "    </tr>\n",
       "  </tbody>\n",
       "</table>\n",
       "</div>"
      ],
      "text/plain": [
       "        data passos\n",
       "0 2020-06-01    Não\n",
       "1 2021-06-02    Não\n",
       "2 2022-06-03    Sim\n",
       "3 2023-06-04    Não\n",
       "4 2024-06-05    Sim"
      ]
     },
     "execution_count": 55,
     "metadata": {},
     "output_type": "execute_result"
    }
   ],
   "source": [
    "#df_passos['passos'] = df_passos['passos'].apply(passos_alcancados)\n",
    "df_passos"
   ]
  },
  {
   "cell_type": "code",
   "execution_count": null,
   "metadata": {},
   "outputs": [],
   "source": []
  },
  {
   "cell_type": "code",
   "execution_count": null,
   "metadata": {
    "scrolled": false
   },
   "outputs": [],
   "source": []
  },
  {
   "cell_type": "code",
   "execution_count": null,
   "metadata": {},
   "outputs": [],
   "source": []
  },
  {
   "cell_type": "code",
   "execution_count": null,
   "metadata": {},
   "outputs": [],
   "source": []
  }
 ],
 "metadata": {
  "kernelspec": {
   "display_name": "Python 3",
   "language": "python",
   "name": "python3"
  },
  "language_info": {
   "codemirror_mode": {
    "name": "ipython",
    "version": 3
   },
   "file_extension": ".py",
   "mimetype": "text/x-python",
   "name": "python",
   "nbconvert_exporter": "python",
   "pygments_lexer": "ipython3",
   "version": "3.9.1"
  }
 },
 "nbformat": 4,
 "nbformat_minor": 4
}
