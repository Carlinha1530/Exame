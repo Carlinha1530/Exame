{
 "cells": [
  {
   "cell_type": "markdown",
   "metadata": {},
   "source": [
    "A tabela a seguir apresenta o faturamento de uma empresa no primeiro semestre do ano de 2019:\n",
    "\n",
    "Mês   | Faturamento\n",
    "--------- | ------\n",
    "Janeiro | 420000\n",
    "Fevereiro | 260000\n",
    "Março | 310000\n",
    "Abril | 290000\n",
    "Maio | 275000\n",
    "Junho | 442000\n",
    "\n",
    "Com base nos dados da tabela acima, crie uma Series que contenha o faturamento da empresa nesse primeiro semestre, utilizando apenas uma lista com esses dados."
   ]
  },
  {
   "cell_type": "code",
   "execution_count": 2,
   "metadata": {},
   "outputs": [],
   "source": [
    "import pandas as pd"
   ]
  },
  {
   "cell_type": "code",
   "execution_count": 4,
   "metadata": {},
   "outputs": [
    {
     "data": {
      "text/plain": [
       "0     42000\n",
       "1    260000\n",
       "2    310000\n",
       "3    290000\n",
       "4     27500\n",
       "5    442000\n",
       "dtype: int64"
      ]
     },
     "execution_count": 4,
     "metadata": {},
     "output_type": "execute_result"
    }
   ],
   "source": [
    "ss = pd.Series([42000, 260000, 310000, 290000, 27500, 442000])\n",
    "ss\n",
    "\n",
    "# import pandas as pd\n",
    "# s = pd.Series(data=[420000, 260000, 310000, 290000, 275000, 442000])\n",
    "# s"
   ]
  },
  {
   "cell_type": "markdown",
   "metadata": {},
   "source": [
    "Utilize os mesmos dados da tabela da questão anterior para criar outra Series, dessa vez com utilizando também o parâmetro index = para definir os meses como índices."
   ]
  },
  {
   "cell_type": "code",
   "execution_count": 7,
   "metadata": {},
   "outputs": [
    {
     "data": {
      "text/plain": [
       "Janeiro       42000\n",
       "Fevereiro    260000\n",
       "Março        310000\n",
       "Abril        290000\n",
       "Maio          27500\n",
       "Junho        442000\n",
       "dtype: int64"
      ]
     },
     "execution_count": 7,
     "metadata": {},
     "output_type": "execute_result"
    }
   ],
   "source": [
    "ss = pd.Series([42000, 260000, 310000, 290000, 27500, 442000], index=['Janeiro', 'Fevereiro', 'Março', 'Abril', 'Maio', 'Junho', ])\n",
    "ss\n",
    "\n",
    "# import pandas as pd\n",
    "# s = pd.Series(data=[420000, 260000, 310000, 290000, 275000, 442000], index=['Janeiro', 'Fevereiro', 'Março', 'Abril', 'Maio', 'Junho'])\n",
    "# s"
   ]
  },
  {
   "cell_type": "markdown",
   "metadata": {},
   "source": [
    "A tabela abaixo apresenta a quantidade de minutos que você estudou programação por dia durante a semana passada. Com base nesses valores, construa uma Série utilizando um dicionário.\n",
    "\n",
    " \n",
    "\n",
    "Dia da Semana   | Minutos estudando\n",
    "--------- | ------\n",
    "Segunda | 39\n",
    "Terça | 91\n",
    "Quarta | 56\n",
    "Quinta | 112\n",
    "Sexta | 88"
   ]
  },
  {
   "cell_type": "code",
   "execution_count": 8,
   "metadata": {},
   "outputs": [
    {
     "data": {
      "text/plain": [
       "Segunda     39\n",
       "Terça       91\n",
       "Quarta      56\n",
       "Quinta     112\n",
       "Sexta       88\n",
       "dtype: int64"
      ]
     },
     "execution_count": 8,
     "metadata": {},
     "output_type": "execute_result"
    }
   ],
   "source": [
    "ss = pd.Series({'Segunda':39, 'Terça':91, 'Quarta':56, 'Quinta':112, 'Sexta':88})\n",
    "ss\n",
    "\n",
    "import pandas as pd\n",
    "# dicio = {'Segunda': 39, 'Terça': 91, 'Quarta': 56, 'Quinta': 112, 'Sexta': 88}\n",
    "# s = pd.Series(dicio)\n",
    "# s"
   ]
  },
  {
   "cell_type": "code",
   "execution_count": null,
   "metadata": {},
   "outputs": [],
   "source": []
  }
 ],
 "metadata": {
  "kernelspec": {
   "display_name": "Python 3",
   "language": "python",
   "name": "python3"
  },
  "language_info": {
   "codemirror_mode": {
    "name": "ipython",
    "version": 3
   },
   "file_extension": ".py",
   "mimetype": "text/x-python",
   "name": "python",
   "nbconvert_exporter": "python",
   "pygments_lexer": "ipython3",
   "version": "3.9.1"
  }
 },
 "nbformat": 4,
 "nbformat_minor": 4
}
