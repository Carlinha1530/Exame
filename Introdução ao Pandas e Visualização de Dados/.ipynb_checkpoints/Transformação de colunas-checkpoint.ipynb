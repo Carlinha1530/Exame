{
 "cells": [
  {
   "cell_type": "code",
   "execution_count": 4,
   "metadata": {},
   "outputs": [],
   "source": [
    "import pandas as pd"
   ]
  },
  {
   "cell_type": "code",
   "execution_count": 2,
   "metadata": {},
   "outputs": [
    {
     "data": {
      "text/html": [
       "<div>\n",
       "<style scoped>\n",
       "    .dataframe tbody tr th:only-of-type {\n",
       "        vertical-align: middle;\n",
       "    }\n",
       "\n",
       "    .dataframe tbody tr th {\n",
       "        vertical-align: top;\n",
       "    }\n",
       "\n",
       "    .dataframe thead th {\n",
       "        text-align: right;\n",
       "    }\n",
       "</style>\n",
       "<table border=\"1\" class=\"dataframe\">\n",
       "  <thead>\n",
       "    <tr style=\"text-align: right;\">\n",
       "      <th></th>\n",
       "      <th>id</th>\n",
       "      <th>startup_id</th>\n",
       "      <th>startup</th>\n",
       "      <th>valor</th>\n",
       "      <th>data_realizada</th>\n",
       "      <th>obs</th>\n",
       "      <th>investidor_id</th>\n",
       "    </tr>\n",
       "  </thead>\n",
       "  <tbody>\n",
       "    <tr>\n",
       "      <th>0</th>\n",
       "      <td>1</td>\n",
       "      <td>1</td>\n",
       "      <td>BYJU’S</td>\n",
       "      <td>200000000.0</td>\n",
       "      <td>2020-01-09</td>\n",
       "      <td>NaN</td>\n",
       "      <td>1.0</td>\n",
       "    </tr>\n",
       "    <tr>\n",
       "      <th>1</th>\n",
       "      <td>2</td>\n",
       "      <td>2</td>\n",
       "      <td>Shuttl</td>\n",
       "      <td>8048394.0</td>\n",
       "      <td>2020-01-13</td>\n",
       "      <td>NaN</td>\n",
       "      <td>2.0</td>\n",
       "    </tr>\n",
       "    <tr>\n",
       "      <th>2</th>\n",
       "      <td>3</td>\n",
       "      <td>3</td>\n",
       "      <td>Mamaearth</td>\n",
       "      <td>18358860.0</td>\n",
       "      <td>2020-01-09</td>\n",
       "      <td>NaN</td>\n",
       "      <td>3.0</td>\n",
       "    </tr>\n",
       "    <tr>\n",
       "      <th>3</th>\n",
       "      <td>4</td>\n",
       "      <td>4</td>\n",
       "      <td>https://www.wealthbucket.in/</td>\n",
       "      <td>3000000.0</td>\n",
       "      <td>2020-01-02</td>\n",
       "      <td>NaN</td>\n",
       "      <td>4.0</td>\n",
       "    </tr>\n",
       "    <tr>\n",
       "      <th>4</th>\n",
       "      <td>5</td>\n",
       "      <td>5</td>\n",
       "      <td>Fashor</td>\n",
       "      <td>1800000.0</td>\n",
       "      <td>2020-01-02</td>\n",
       "      <td>NaN</td>\n",
       "      <td>5.0</td>\n",
       "    </tr>\n",
       "  </tbody>\n",
       "</table>\n",
       "</div>"
      ],
      "text/plain": [
       "   id  startup_id                       startup        valor data_realizada  \\\n",
       "0   1           1                        BYJU’S  200000000.0     2020-01-09   \n",
       "1   2           2                        Shuttl    8048394.0     2020-01-13   \n",
       "2   3           3                     Mamaearth   18358860.0     2020-01-09   \n",
       "3   4           4  https://www.wealthbucket.in/    3000000.0     2020-01-02   \n",
       "4   5           5                        Fashor    1800000.0     2020-01-02   \n",
       "\n",
       "   obs  investidor_id  \n",
       "0  NaN            1.0  \n",
       "1  NaN            2.0  \n",
       "2  NaN            3.0  \n",
       "3  NaN            4.0  \n",
       "4  NaN            5.0  "
      ]
     },
     "execution_count": 2,
     "metadata": {},
     "output_type": "execute_result"
    }
   ],
   "source": [
    "investimentos = pd.read_csv('investimento.csv')\n",
    "investimentos.head()"
   ]
  },
  {
   "cell_type": "code",
   "execution_count": 38,
   "metadata": {},
   "outputs": [
    {
     "name": "stdout",
     "output_type": "stream",
     "text": [
      "<class 'pandas.core.frame.DataFrame'>\n",
      "RangeIndex: 3044 entries, 0 to 3043\n",
      "Data columns (total 8 columns):\n",
      " #   Column          Non-Null Count  Dtype  \n",
      "---  ------          --------------  -----  \n",
      " 0   id              3044 non-null   int64  \n",
      " 1   startup_id      3044 non-null   int64  \n",
      " 2   startup         3044 non-null   object \n",
      " 3   valor           2065 non-null   float64\n",
      " 4   data_realizada  3044 non-null   object \n",
      " 5   obs             419 non-null    object \n",
      " 6   investidor_id   3020 non-null   float64\n",
      " 7   maior_100k      3044 non-null   int64  \n",
      "dtypes: float64(2), int64(3), object(3)\n",
      "memory usage: 190.4+ KB\n"
     ]
    }
   ],
   "source": [
    "investimentos.info()"
   ]
  },
  {
   "cell_type": "markdown",
   "metadata": {},
   "source": [
    "# não conseguir testar a linha de comando a baixo\n",
    "#### Para resolver esse problema utilizei \n",
    "    errors='coerce'\n",
    "#### Para forçar a alteração    \n"
   ]
  },
  {
   "cell_type": "code",
   "execution_count": 43,
   "metadata": {},
   "outputs": [
    {
     "name": "stdout",
     "output_type": "stream",
     "text": [
      "<class 'pandas.core.frame.DataFrame'>\n",
      "RangeIndex: 3044 entries, 0 to 3043\n",
      "Data columns (total 8 columns):\n",
      " #   Column          Non-Null Count  Dtype         \n",
      "---  ------          --------------  -----         \n",
      " 0   id              3044 non-null   int64         \n",
      " 1   startup_id      3044 non-null   int64         \n",
      " 2   startup         3044 non-null   object        \n",
      " 3   valor           2065 non-null   float64       \n",
      " 4   data_realizada  0 non-null      datetime64[ns]\n",
      " 5   obs             419 non-null    object        \n",
      " 6   investidor_id   3020 non-null   float64       \n",
      " 7   maior_100k      3044 non-null   int64         \n",
      "dtypes: datetime64[ns](1), float64(2), int64(3), object(2)\n",
      "memory usage: 190.4+ KB\n"
     ]
    }
   ],
   "source": [
    "# transforma tipo de dado da coluna\n",
    "\n",
    "investimentos['data_realizada'] = pd.to_datetime(investimentos['data_realizada'], format='%d/%m/%Y', errors='coerce')\n",
    "investimentos.info()"
   ]
  },
  {
   "cell_type": "markdown",
   "metadata": {},
   "source": [
    "# não conseguir testar a linha de comando a baixo"
   ]
  },
  {
   "cell_type": "code",
   "execution_count": 44,
   "metadata": {},
   "outputs": [],
   "source": [
    "#função para remoção das virgulas para tratar valores(float)\n",
    "\n",
    "def to_number(string):\n",
    "    string = string.replace(',','')\n",
    "    number = float(string)\n",
    "    return number"
   ]
  },
  {
   "cell_type": "code",
   "execution_count": 46,
   "metadata": {},
   "outputs": [],
   "source": [
    "#usando a função to_number\n",
    "#investimentos['valor'] = investimentos['valor'].apply(to_number)"
   ]
  },
  {
   "cell_type": "code",
   "execution_count": 16,
   "metadata": {},
   "outputs": [
    {
     "data": {
      "text/html": [
       "<div>\n",
       "<style scoped>\n",
       "    .dataframe tbody tr th:only-of-type {\n",
       "        vertical-align: middle;\n",
       "    }\n",
       "\n",
       "    .dataframe tbody tr th {\n",
       "        vertical-align: top;\n",
       "    }\n",
       "\n",
       "    .dataframe thead th {\n",
       "        text-align: right;\n",
       "    }\n",
       "</style>\n",
       "<table border=\"1\" class=\"dataframe\">\n",
       "  <thead>\n",
       "    <tr style=\"text-align: right;\">\n",
       "      <th></th>\n",
       "      <th>id</th>\n",
       "      <th>startup_id</th>\n",
       "      <th>startup</th>\n",
       "      <th>valor</th>\n",
       "      <th>data_realizada</th>\n",
       "      <th>obs</th>\n",
       "      <th>investidor_id</th>\n",
       "    </tr>\n",
       "  </thead>\n",
       "  <tbody>\n",
       "    <tr>\n",
       "      <th>0</th>\n",
       "      <td>1</td>\n",
       "      <td>1</td>\n",
       "      <td>BYJU’S</td>\n",
       "      <td>200000000.0</td>\n",
       "      <td>2020-01-09</td>\n",
       "      <td>NaN</td>\n",
       "      <td>1.0</td>\n",
       "    </tr>\n",
       "    <tr>\n",
       "      <th>1</th>\n",
       "      <td>2</td>\n",
       "      <td>2</td>\n",
       "      <td>Shuttl</td>\n",
       "      <td>8048394.0</td>\n",
       "      <td>2020-01-13</td>\n",
       "      <td>NaN</td>\n",
       "      <td>2.0</td>\n",
       "    </tr>\n",
       "    <tr>\n",
       "      <th>2</th>\n",
       "      <td>3</td>\n",
       "      <td>3</td>\n",
       "      <td>Mamaearth</td>\n",
       "      <td>18358860.0</td>\n",
       "      <td>2020-01-09</td>\n",
       "      <td>NaN</td>\n",
       "      <td>3.0</td>\n",
       "    </tr>\n",
       "    <tr>\n",
       "      <th>3</th>\n",
       "      <td>4</td>\n",
       "      <td>4</td>\n",
       "      <td>https://www.wealthbucket.in/</td>\n",
       "      <td>3000000.0</td>\n",
       "      <td>2020-01-02</td>\n",
       "      <td>NaN</td>\n",
       "      <td>4.0</td>\n",
       "    </tr>\n",
       "    <tr>\n",
       "      <th>4</th>\n",
       "      <td>5</td>\n",
       "      <td>5</td>\n",
       "      <td>Fashor</td>\n",
       "      <td>1800000.0</td>\n",
       "      <td>2020-01-02</td>\n",
       "      <td>NaN</td>\n",
       "      <td>5.0</td>\n",
       "    </tr>\n",
       "  </tbody>\n",
       "</table>\n",
       "</div>"
      ],
      "text/plain": [
       "   id  startup_id                       startup        valor data_realizada  \\\n",
       "0   1           1                        BYJU’S  200000000.0     2020-01-09   \n",
       "1   2           2                        Shuttl    8048394.0     2020-01-13   \n",
       "2   3           3                     Mamaearth   18358860.0     2020-01-09   \n",
       "3   4           4  https://www.wealthbucket.in/    3000000.0     2020-01-02   \n",
       "4   5           5                        Fashor    1800000.0     2020-01-02   \n",
       "\n",
       "   obs  investidor_id  \n",
       "0  NaN            1.0  \n",
       "1  NaN            2.0  \n",
       "2  NaN            3.0  \n",
       "3  NaN            4.0  \n",
       "4  NaN            5.0  "
      ]
     },
     "execution_count": 16,
     "metadata": {},
     "output_type": "execute_result"
    }
   ],
   "source": [
    "investimentos.head()"
   ]
  },
  {
   "cell_type": "code",
   "execution_count": 47,
   "metadata": {},
   "outputs": [
    {
     "name": "stdout",
     "output_type": "stream",
     "text": [
      "<class 'pandas.core.frame.DataFrame'>\n",
      "RangeIndex: 3044 entries, 0 to 3043\n",
      "Data columns (total 8 columns):\n",
      " #   Column          Non-Null Count  Dtype         \n",
      "---  ------          --------------  -----         \n",
      " 0   id              3044 non-null   int64         \n",
      " 1   startup_id      3044 non-null   int64         \n",
      " 2   startup         3044 non-null   object        \n",
      " 3   valor           2065 non-null   float64       \n",
      " 4   data_realizada  0 non-null      datetime64[ns]\n",
      " 5   obs             419 non-null    object        \n",
      " 6   investidor_id   3020 non-null   float64       \n",
      " 7   maior_100k      3044 non-null   int64         \n",
      "dtypes: datetime64[ns](1), float64(2), int64(3), object(2)\n",
      "memory usage: 190.4+ KB\n"
     ]
    }
   ],
   "source": [
    "investimentos.info()"
   ]
  },
  {
   "cell_type": "code",
   "execution_count": 13,
   "metadata": {},
   "outputs": [],
   "source": [
    "#função para inserir uma coluna com flag  que diz se o investimento \n",
    "#é maior que 100mil\n",
    "\n",
    "def maior_100k(valor):\n",
    "    if valor > 1000000:\n",
    "        return 1\n",
    "    else:\n",
    "        return 0"
   ]
  },
  {
   "cell_type": "code",
   "execution_count": 23,
   "metadata": {},
   "outputs": [],
   "source": [
    "investimentos['maior_100k'] = 0"
   ]
  },
  {
   "cell_type": "code",
   "execution_count": 33,
   "metadata": {},
   "outputs": [],
   "source": [
    "#criação de nova coluna 'maior_100k'\n",
    "investimentos['maior_100k'] = investimentos['valor'].apply(maior_100k)"
   ]
  },
  {
   "cell_type": "code",
   "execution_count": 35,
   "metadata": {},
   "outputs": [
    {
     "data": {
      "text/html": [
       "<div>\n",
       "<style scoped>\n",
       "    .dataframe tbody tr th:only-of-type {\n",
       "        vertical-align: middle;\n",
       "    }\n",
       "\n",
       "    .dataframe tbody tr th {\n",
       "        vertical-align: top;\n",
       "    }\n",
       "\n",
       "    .dataframe thead th {\n",
       "        text-align: right;\n",
       "    }\n",
       "</style>\n",
       "<table border=\"1\" class=\"dataframe\">\n",
       "  <thead>\n",
       "    <tr style=\"text-align: right;\">\n",
       "      <th></th>\n",
       "      <th>id</th>\n",
       "      <th>startup_id</th>\n",
       "      <th>startup</th>\n",
       "      <th>valor</th>\n",
       "      <th>data_realizada</th>\n",
       "      <th>obs</th>\n",
       "      <th>investidor_id</th>\n",
       "      <th>maior_100k</th>\n",
       "    </tr>\n",
       "  </thead>\n",
       "  <tbody>\n",
       "    <tr>\n",
       "      <th>0</th>\n",
       "      <td>1</td>\n",
       "      <td>1</td>\n",
       "      <td>BYJU’S</td>\n",
       "      <td>200000000.0</td>\n",
       "      <td>2020-01-09</td>\n",
       "      <td>NaN</td>\n",
       "      <td>1.0</td>\n",
       "      <td>1</td>\n",
       "    </tr>\n",
       "    <tr>\n",
       "      <th>1</th>\n",
       "      <td>2</td>\n",
       "      <td>2</td>\n",
       "      <td>Shuttl</td>\n",
       "      <td>8048394.0</td>\n",
       "      <td>2020-01-13</td>\n",
       "      <td>NaN</td>\n",
       "      <td>2.0</td>\n",
       "      <td>1</td>\n",
       "    </tr>\n",
       "    <tr>\n",
       "      <th>2</th>\n",
       "      <td>3</td>\n",
       "      <td>3</td>\n",
       "      <td>Mamaearth</td>\n",
       "      <td>18358860.0</td>\n",
       "      <td>2020-01-09</td>\n",
       "      <td>NaN</td>\n",
       "      <td>3.0</td>\n",
       "      <td>1</td>\n",
       "    </tr>\n",
       "    <tr>\n",
       "      <th>3</th>\n",
       "      <td>4</td>\n",
       "      <td>4</td>\n",
       "      <td>https://www.wealthbucket.in/</td>\n",
       "      <td>3000000.0</td>\n",
       "      <td>2020-01-02</td>\n",
       "      <td>NaN</td>\n",
       "      <td>4.0</td>\n",
       "      <td>1</td>\n",
       "    </tr>\n",
       "    <tr>\n",
       "      <th>4</th>\n",
       "      <td>5</td>\n",
       "      <td>5</td>\n",
       "      <td>Fashor</td>\n",
       "      <td>1800000.0</td>\n",
       "      <td>2020-01-02</td>\n",
       "      <td>NaN</td>\n",
       "      <td>5.0</td>\n",
       "      <td>1</td>\n",
       "    </tr>\n",
       "    <tr>\n",
       "      <th>...</th>\n",
       "      <td>...</td>\n",
       "      <td>...</td>\n",
       "      <td>...</td>\n",
       "      <td>...</td>\n",
       "      <td>...</td>\n",
       "      <td>...</td>\n",
       "      <td>...</td>\n",
       "      <td>...</td>\n",
       "    </tr>\n",
       "    <tr>\n",
       "      <th>3039</th>\n",
       "      <td>3040</td>\n",
       "      <td>3040</td>\n",
       "      <td>Printvenue</td>\n",
       "      <td>4500000.0</td>\n",
       "      <td>2015-01-29</td>\n",
       "      <td>NaN</td>\n",
       "      <td>2410.0</td>\n",
       "      <td>1</td>\n",
       "    </tr>\n",
       "    <tr>\n",
       "      <th>3040</th>\n",
       "      <td>3041</td>\n",
       "      <td>3041</td>\n",
       "      <td>Graphene</td>\n",
       "      <td>825000.0</td>\n",
       "      <td>2015-01-29</td>\n",
       "      <td>Govt backed VC Fund</td>\n",
       "      <td>2411.0</td>\n",
       "      <td>0</td>\n",
       "    </tr>\n",
       "    <tr>\n",
       "      <th>3041</th>\n",
       "      <td>3042</td>\n",
       "      <td>158</td>\n",
       "      <td>Mad Street Den</td>\n",
       "      <td>1500000.0</td>\n",
       "      <td>2015-01-30</td>\n",
       "      <td>NaN</td>\n",
       "      <td>2412.0</td>\n",
       "      <td>1</td>\n",
       "    </tr>\n",
       "    <tr>\n",
       "      <th>3042</th>\n",
       "      <td>3043</td>\n",
       "      <td>3043</td>\n",
       "      <td>Simplotel</td>\n",
       "      <td>NaN</td>\n",
       "      <td>2015-01-30</td>\n",
       "      <td>Strategic Funding, Minority stake</td>\n",
       "      <td>199.0</td>\n",
       "      <td>0</td>\n",
       "    </tr>\n",
       "    <tr>\n",
       "      <th>3043</th>\n",
       "      <td>3044</td>\n",
       "      <td>3044</td>\n",
       "      <td>couponmachine.in</td>\n",
       "      <td>140000.0</td>\n",
       "      <td>2015-01-31</td>\n",
       "      <td>NaN</td>\n",
       "      <td>2413.0</td>\n",
       "      <td>0</td>\n",
       "    </tr>\n",
       "  </tbody>\n",
       "</table>\n",
       "<p>3044 rows × 8 columns</p>\n",
       "</div>"
      ],
      "text/plain": [
       "        id  startup_id                       startup        valor  \\\n",
       "0        1           1                        BYJU’S  200000000.0   \n",
       "1        2           2                        Shuttl    8048394.0   \n",
       "2        3           3                     Mamaearth   18358860.0   \n",
       "3        4           4  https://www.wealthbucket.in/    3000000.0   \n",
       "4        5           5                        Fashor    1800000.0   \n",
       "...    ...         ...                           ...          ...   \n",
       "3039  3040        3040                    Printvenue    4500000.0   \n",
       "3040  3041        3041                      Graphene     825000.0   \n",
       "3041  3042         158                Mad Street Den    1500000.0   \n",
       "3042  3043        3043                     Simplotel          NaN   \n",
       "3043  3044        3044              couponmachine.in     140000.0   \n",
       "\n",
       "     data_realizada                                obs  investidor_id  \\\n",
       "0        2020-01-09                                NaN            1.0   \n",
       "1        2020-01-13                                NaN            2.0   \n",
       "2        2020-01-09                                NaN            3.0   \n",
       "3        2020-01-02                                NaN            4.0   \n",
       "4        2020-01-02                                NaN            5.0   \n",
       "...             ...                                ...            ...   \n",
       "3039     2015-01-29                                NaN         2410.0   \n",
       "3040     2015-01-29                Govt backed VC Fund         2411.0   \n",
       "3041     2015-01-30                                NaN         2412.0   \n",
       "3042     2015-01-30  Strategic Funding, Minority stake          199.0   \n",
       "3043     2015-01-31                                NaN         2413.0   \n",
       "\n",
       "      maior_100k  \n",
       "0              1  \n",
       "1              1  \n",
       "2              1  \n",
       "3              1  \n",
       "4              1  \n",
       "...          ...  \n",
       "3039           1  \n",
       "3040           0  \n",
       "3041           1  \n",
       "3042           0  \n",
       "3043           0  \n",
       "\n",
       "[3044 rows x 8 columns]"
      ]
     },
     "execution_count": 35,
     "metadata": {},
     "output_type": "execute_result"
    }
   ],
   "source": [
    "investimentos"
   ]
  },
  {
   "cell_type": "markdown",
   "metadata": {},
   "source": [
    "## ------------------------------------------------EXERCICIOS---------------------------------------------------------------"
   ]
  },
  {
   "cell_type": "markdown",
   "metadata": {},
   "source": [
    "### 1. Carregue os dados do arquivo HIST_PAINEL_COVIDBR_23mai2020.xlsx, que contém os dados da COVID-19 nos estados/munícipios do Brasil, em um DataFrame. Em seguida, utilize o método info para verificar o tipo de dado da coluna data. Fazendo isso, você irá notar que o tipo é object, ou seja, trata-se de uma string. Portanto, você deve alterar para o tipo datatime.\n",
    "### No entanto, vamos deixar isso para a próxima questão. Primeiramente, para isso você possa exercitar esse conceito de transformação de colunas, substitua o traço da data pela barra. Em outras palavras, você vai converter de 2020-02-26 para 2020/02/26. Para isso, você deve criar uma função que recebe uma data e retorna essa mesma data com essa substituição (replace). Em seguida, você deve aplicar essa função à coluna data do DataFrame."
   ]
  },
  {
   "cell_type": "code",
   "execution_count": 2,
   "metadata": {},
   "outputs": [],
   "source": [
    "df_covid = pd.read_excel('HIST_PAINEL_COVIDBR_23mai2020.xlsx')\n",
    "df_covid.info()"
   ]
  },
  {
   "cell_type": "markdown",
   "metadata": {},
   "source": [
    "#### Feedback\n",
    "def traco_barra(data):\n",
    "....return data.replace('-', '/')\n",
    "\n",
    "import pandas as pd\n",
    "\n",
    "df_covid = pd.read_excel('datasets/HIST_PAINEL_COVIDBR_23mai2020.xlsx')\n",
    "\n",
    "df_covid['data'] = df_covid['data'].apply(traco_barra)\n",
    "\n",
    "df_covid.head()"
   ]
  },
  {
   "cell_type": "markdown",
   "metadata": {},
   "source": [
    "### 2. Pronto! Agora que você alterou o formato da data, você deve convertê-la do tipo string para o tipo datatime, assim como você apresentado na Aula 10. Mas observe que, nesse caso, a data está invertida, ou seja, primeiro temos o ano, depois o mês e, por fim, o dia. Logo, você deve utilizar o parâmetro format='%Y/%m/%d'."
   ]
  },
  {
   "cell_type": "code",
   "execution_count": 5,
   "metadata": {},
   "outputs": [
    {
     "name": "stdout",
     "output_type": "stream",
     "text": [
      "<class 'pandas.core.frame.DataFrame'>\n",
      "RangeIndex: 5 entries, 0 to 4\n",
      "Data columns (total 2 columns):\n",
      " #   Column  Non-Null Count  Dtype \n",
      "---  ------  --------------  ----- \n",
      " 0   data    5 non-null      object\n",
      " 1   passos  5 non-null      int64 \n",
      "dtypes: int64(1), object(1)\n",
      "memory usage: 208.0+ bytes\n"
     ]
    }
   ],
   "source": [
    "df_passos = pd.read_excel('passos.xlsx')\n",
    "df_passos.info()"
   ]
  },
  {
   "cell_type": "code",
   "execution_count": 6,
   "metadata": {},
   "outputs": [
    {
     "name": "stdout",
     "output_type": "stream",
     "text": [
      "<class 'pandas.core.frame.DataFrame'>\n",
      "RangeIndex: 5 entries, 0 to 4\n",
      "Data columns (total 2 columns):\n",
      " #   Column  Non-Null Count  Dtype         \n",
      "---  ------  --------------  -----         \n",
      " 0   data    5 non-null      datetime64[ns]\n",
      " 1   passos  5 non-null      int64         \n",
      "dtypes: datetime64[ns](1), int64(1)\n",
      "memory usage: 208.0 bytes\n"
     ]
    }
   ],
   "source": [
    "df_passos['data'] = pd.to_datetime(df_passos['data'], format='%d/%m/%Y', errors='coerce')\n",
    "df_passos.info()"
   ]
  },
  {
   "cell_type": "markdown",
   "metadata": {},
   "source": [
    "#### Feedback\n",
    "df_passos = pd.read_excel('datasets/passos.xlsx')\n",
    "\n",
    "df_passos['data'] = pd.to_datetime(df_passos['data'], format='%d/%m/%Y')\n",
    "\n",
    "df_passos.info()"
   ]
  },
  {
   "cell_type": "markdown",
   "metadata": {},
   "source": [
    "### 4. Agora, utilizando o mesmo dataframe da questão anterior, você deve indicar se o indivíduo atingiu a sua meta de número de passos diário. Considere que a meta dele é de 4500 passos por dia. Sendo assim, crie uma função que analise a quantidade de passos e retorne 'sim', caso ele tenha alcançado a meta e 'não' caso contrário. Por fim, aplique essa função à coluna passos do DataFrame.¶"
   ]
  },
  {
   "cell_type": "code",
   "execution_count": 7,
   "metadata": {},
   "outputs": [],
   "source": [
    "def passos_alcancados(passos):\n",
    "    if passos > 4500:\n",
    "        return 'Sim'\n",
    "    else:\n",
    "        return 'Não'"
   ]
  },
  {
   "cell_type": "code",
   "execution_count": 8,
   "metadata": {},
   "outputs": [
    {
     "data": {
      "text/html": [
       "<div>\n",
       "<style scoped>\n",
       "    .dataframe tbody tr th:only-of-type {\n",
       "        vertical-align: middle;\n",
       "    }\n",
       "\n",
       "    .dataframe tbody tr th {\n",
       "        vertical-align: top;\n",
       "    }\n",
       "\n",
       "    .dataframe thead th {\n",
       "        text-align: right;\n",
       "    }\n",
       "</style>\n",
       "<table border=\"1\" class=\"dataframe\">\n",
       "  <thead>\n",
       "    <tr style=\"text-align: right;\">\n",
       "      <th></th>\n",
       "      <th>data</th>\n",
       "      <th>passos</th>\n",
       "    </tr>\n",
       "  </thead>\n",
       "  <tbody>\n",
       "    <tr>\n",
       "      <th>0</th>\n",
       "      <td>2020-06-01</td>\n",
       "      <td>4216</td>\n",
       "    </tr>\n",
       "    <tr>\n",
       "      <th>1</th>\n",
       "      <td>2021-06-02</td>\n",
       "      <td>3867</td>\n",
       "    </tr>\n",
       "    <tr>\n",
       "      <th>2</th>\n",
       "      <td>2022-06-03</td>\n",
       "      <td>7934</td>\n",
       "    </tr>\n",
       "    <tr>\n",
       "      <th>3</th>\n",
       "      <td>2023-06-04</td>\n",
       "      <td>4180</td>\n",
       "    </tr>\n",
       "    <tr>\n",
       "      <th>4</th>\n",
       "      <td>2024-06-05</td>\n",
       "      <td>5344</td>\n",
       "    </tr>\n",
       "  </tbody>\n",
       "</table>\n",
       "</div>"
      ],
      "text/plain": [
       "        data  passos\n",
       "0 2020-06-01    4216\n",
       "1 2021-06-02    3867\n",
       "2 2022-06-03    7934\n",
       "3 2023-06-04    4180\n",
       "4 2024-06-05    5344"
      ]
     },
     "execution_count": 8,
     "metadata": {},
     "output_type": "execute_result"
    }
   ],
   "source": [
    "#df_passos['passos'] = df_passos['passos'].apply(passos_alcancados)\n",
    "df_passos\n"
   ]
  },
  {
   "cell_type": "markdown",
   "metadata": {},
   "source": [
    "##### Feedback\n",
    "def meta(passos):\n",
    "    if (passos >= 4500):\n",
    "        return 'sim'\n",
    "    else:\n",
    "        return 'não'\n",
    "\n",
    "df_passos['passos'] = df_passos['passos'].apply(meta)\n",
    "\n",
    "df_passos.head()"
   ]
  },
  {
   "cell_type": "code",
   "execution_count": null,
   "metadata": {},
   "outputs": [],
   "source": []
  }
 ],
 "metadata": {
  "kernelspec": {
   "display_name": "Python 3",
   "language": "python",
   "name": "python3"
  },
  "language_info": {
   "codemirror_mode": {
    "name": "ipython",
    "version": 3
   },
   "file_extension": ".py",
   "mimetype": "text/x-python",
   "name": "python",
   "nbconvert_exporter": "python",
   "pygments_lexer": "ipython3",
   "version": "3.9.1"
  }
 },
 "nbformat": 4,
 "nbformat_minor": 4
}
