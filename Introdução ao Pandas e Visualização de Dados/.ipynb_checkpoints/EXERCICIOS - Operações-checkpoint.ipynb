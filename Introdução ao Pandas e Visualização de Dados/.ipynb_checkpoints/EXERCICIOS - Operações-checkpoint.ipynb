{
 "cells": [
  {
   "cell_type": "markdown",
   "metadata": {},
   "source": [
    "1. Considere três empresas (A, B e C) que até o início do ano possuíam 7, 35 e 59 funcionários, respectivamente. No mês de maio, as três empresas haviam crescido e, portanto, ampliaram o seu quadro de funcionários. A empresa A somou mais 5 funcionários; a empresa B mais 14, e a empresa C, mais 16. Esse cenário é apresentado na tabela abaixo:\n",
    "\n",
    "Empresa | Início do ano | Maio\n",
    ":-------|:--------------|:-----\n",
    "A | 7 | 5\n",
    "B | 35 | 14\n",
    "C | 59 | 16\n",
    "\n",
    "Considerando esse cenário, crie um objeto Series que contenha o número de funcionários de cada uma das empresas no início do ano, e outro que contenha o acréscimo de funcionários no mês de maio. Por fim, obtenha uma Series que contenho o número total de funcionários em cada empresa no mês de maio."
   ]
  },
  {
   "cell_type": "code",
   "execution_count": 2,
   "metadata": {},
   "outputs": [],
   "source": [
    "import pandas as pd"
   ]
  },
  {
   "cell_type": "code",
   "execution_count": 4,
   "metadata": {},
   "outputs": [
    {
     "name": "stdout",
     "output_type": "stream",
     "text": [
      "A    12\n",
      "B    49\n",
      "C    75\n",
      "dtype: int64\n"
     ]
    }
   ],
   "source": [
    "fi = pd.Series([7, 35, 59], index=['A', 'B', 'C'])\n",
    "fm = pd.Series([5, 14, 16], index=['A', 'B', 'C'])\n",
    "\n",
    "print(fi+fm)"
   ]
  },
  {
   "cell_type": "markdown",
   "metadata": {},
   "source": [
    "#### Feedback - Questão 1\n",
    "\n",
    "import pandas as pd\n",
    "\n",
    "s1 = pd.Series([7, 35, 59], index='A B C'.split())\n",
    "\n",
    "s2 = pd.Series([5, 14, 16], index='A B C'.split())\n",
    "\n",
    "s1 + s2"
   ]
  },
  {
   "cell_type": "markdown",
   "metadata": {},
   "source": [
    "2. A tabela abaixo apresenta os quatro países com os maiores números de casos confirmados de COVID-19, incluindo o número total de casos em cada um deles nos dias 21/05 e 22/05:\n",
    "\n",
    "País | Total de Casos Confirmados 21/05 | Total de Casos Confirmados 22/05\n",
    ":----|:---------------------------------|:--------------------------------\n",
    "Estados Unidos | 1620902 | 1649081\n",
    "Rússia         |\t317554 | 326403\n",
    "Brasil         |\t310921 | 328485\n",
    "Espanha        |\t280117 | 280710\n",
    "\n",
    "Com base nesses dados, crie dois objetos Series: o primeiro com o total de casos no dia 21/05 e o outro com o número total de casos no dia 22/05. Em seguida, obtenha uma Series que contenha a quantidade de novos casos entre esses dois dias."
   ]
  },
  {
   "cell_type": "code",
   "execution_count": 11,
   "metadata": {},
   "outputs": [
    {
     "name": "stdout",
     "output_type": "stream",
     "text": [
      "Estados Unidos    28179\n",
      "Rússia             8849\n",
      "Brasil            17564\n",
      "Espanha             593\n",
      "dtype: int64\n"
     ]
    }
   ],
   "source": [
    "c1 = pd.Series([1620902, 317554, 310921, 280117], index=['Estados Unidos', 'Rússia', 'Brasil', 'Espanha'])\n",
    "c2 = pd.Series([1649081, 326403, 328485, 280710], index=['Estados Unidos', 'Rússia', 'Brasil', 'Espanha'])\n",
    "\n",
    "print(c2-c1)"
   ]
  },
  {
   "cell_type": "markdown",
   "metadata": {},
   "source": [
    "#### Feedback - Questão 2\n",
    "\n",
    "s1 = pd.Series([1620902, 317554, 310921, 280117], index=['Estados Unidos', 'Rússia', 'Brasil', 'Espanha'])\n",
    "\n",
    "s2 = pd.Series([1649081, 326403, 328485, 280710], index=['Estados Unidos', 'Rússia', 'Brasil', 'Espanha'])\n",
    "\n",
    "s2 - s1\n",
    "\n"
   ]
  },
  {
   "cell_type": "markdown",
   "metadata": {},
   "source": [
    "3. O salário bruto de cinco funcionários de uma empresa de tecnologia, que são apresentados pelo cargo que exercem na mesma, são apresentados na tabela abaixo. Além do salário bruto, a tabela também dispõe do percentual que deve ser descontado do salário de cada um deles, referente ao imposto do INSS.\n",
    "\n",
    "Cargo | Salário Bruto | INSS\n",
    ":-----|:--------------|:-----\n",
    "Cientista de Dados | R$ 6.101,00 | 14%\n",
    "Analista de Redes de Computadores | R$ 2.964,00 | 12%\n",
    "Desenvolvedor de Banco de Dados | R$ 4.185,00 | 14%\n",
    "Programador Trainee | R$ 1.511,00 | 9% |\n",
    "Administrador de Segurança de Dados | R$ 4.060,00 | 14%\n",
    "\n",
    "Com base nessas informações obtenha uma Series que contenha o valor, em reais, que será descontado do salário bruto de cada um desses funcionários, referente ao INSS.\n",
    "\n"
   ]
  },
  {
   "cell_type": "code",
   "execution_count": 16,
   "metadata": {},
   "outputs": [
    {
     "name": "stdout",
     "output_type": "stream",
     "text": [
      "Cientista de Dados                     854.14\n",
      "Analista de Redes de Computadores      355.68\n",
      "Desenvolvedor de Banco de Dados        585.90\n",
      "Programador Trainee                    135.99\n",
      "Administrador de Segurança de Dados    568.40\n",
      "dtype: float64\n"
     ]
    }
   ],
   "source": [
    "salario = pd.Series([6101, 2964, 4185, 1511, 4060], dtype=(\"float\"), index=['Cientista de Dados', 'Analista de Redes de Computadores', 'Desenvolvedor de Banco de Dados', 'Programador Trainee', 'Administrador de Segurança de Dados'])\n",
    "inss = pd.Series([0.14, 0.12, 0.14, 0.09, 0.14], dtype=(\"float\"), index=['Cientista de Dados', 'Analista de Redes de Computadores', 'Desenvolvedor de Banco de Dados', 'Programador Trainee', 'Administrador de Segurança de Dados'])\n",
    "\n",
    "desconto = salario * inss\n",
    "\n",
    "print(desconto)\n",
    "\n"
   ]
  },
  {
   "cell_type": "markdown",
   "metadata": {},
   "source": [
    "#### Feedback - Questão 3\n",
    "s1 = pd.Series([6101, 2964, 4185, 1511, 4060], index=['Cientista de dados', 'Analista de Redes de Computadores', 'Desenvolvedor de banco de dados', 'Programador Trainee', 'Administrador de segurança de dados'])\n",
    "\n",
    "s2 = pd.Series([0.14, 0.12, 0.14, 0.09, 0.14], index=['Cientista de dados', 'Analista de Redes de Computadores', 'Desenvolvedor de banco de dados', 'Programador Trainee', 'Administrador de segurança de dados'])\n",
    "\n",
    "s1 * s2"
   ]
  },
  {
   "cell_type": "markdown",
   "metadata": {},
   "source": [
    "A tabela a seguir apresenta o faturamento de uma empresa no primeiro semestre do ano de 2019:\n",
    "\n",
    "Mês | Faturamento\n",
    ":---|:------------\n",
    "Janeiro | 420000\n",
    "Fevereiro | 260000\n",
    "Março | 310000\n",
    "Abril | 290000\n",
    "Maio | 275000\n",
    "Junho | 442000\n",
    "Com base nos dados da tabela acima, crie uma Series que contenha o faturamento da empresa nesse primeiro semestre de 2019 e, em seguida, obtenha o faturamento mensal mínino e máximo, e o faturamento médio nesse período.\n",
    "\n",
    "Dica: Utilize os métodos min, max e mean para obter esses valores."
   ]
  },
  {
   "cell_type": "code",
   "execution_count": 21,
   "metadata": {},
   "outputs": [
    {
     "name": "stdout",
     "output_type": "stream",
     "text": [
      "Faturamento mensal mínimo: 260000\n",
      "Faturamento mensal máximo: 442000\n",
      "Faturamento médio: 332833.3333333333\n"
     ]
    }
   ],
   "source": [
    "fat = pd.Series([420000, 260000, 310000, 290000, 275000, 442000])\n",
    "\n",
    "print(\"Faturamento mensal mínimo: \" + str(fat.min()))\n",
    "print(\"Faturamento mensal máximo: \" + str(fat.max()))\n",
    "print(\"Faturamento médio: \" + str(fat.mean()))"
   ]
  },
  {
   "cell_type": "markdown",
   "metadata": {},
   "source": [
    "#### Feedback\n",
    "s = pd.Series(data=[420000, 260000, 310000, 290000, 275000, 442000], index=['Janeiro', 'Fevereiro', 'Março', 'Abril', 'Maio', 'Junho'])\n",
    "\n",
    "print('Faturamento mensal mínimo:', s.min())\n",
    "print('Faturamento mensal máximo:', s.max())\n",
    "print('Faturamento médio:', s.mean())"
   ]
  },
  {
   "cell_type": "code",
   "execution_count": null,
   "metadata": {},
   "outputs": [],
   "source": []
  }
 ],
 "metadata": {
  "kernelspec": {
   "display_name": "Python 3",
   "language": "python",
   "name": "python3"
  },
  "language_info": {
   "codemirror_mode": {
    "name": "ipython",
    "version": 3
   },
   "file_extension": ".py",
   "mimetype": "text/x-python",
   "name": "python",
   "nbconvert_exporter": "python",
   "pygments_lexer": "ipython3",
   "version": "3.9.1"
  }
 },
 "nbformat": 4,
 "nbformat_minor": 4
}
