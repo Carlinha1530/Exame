{
 "cells": [
  {
   "cell_type": "code",
   "execution_count": 2,
   "metadata": {},
   "outputs": [],
   "source": [
    "import pandas as pd;"
   ]
  },
  {
   "cell_type": "markdown",
   "metadata": {},
   "source": [
    "1. Considere 10 (dez) empresas (A, B, C, D, E, F, G, H, I e J) que possuem um número de funcionários que é apresentado na tabela abaixo:\n",
    "\n",
    "Empresa | Número de Funcionários\n",
    ":-------|:----------------------\n",
    "A | 141\n",
    "B | 640\n",
    "C | 131\n",
    "D | 582\n",
    "E | 475\n",
    "F | 511\n",
    "G | 641\n",
    "H | 58\n",
    "I | 690\n",
    "J | 23\n",
    "\n",
    "Considerando os dados acima e, também, a classificação do porte da empresa pelo número de funcionários, feita pelo IBGE (relembre essa classificação na tabela abaixo), obtenha uma Series que contenha apenas as empresas de grande porte.\n",
    "\n",
    "Tamanho da Empresa | Número de Funcionários\n",
    ":------------------|:----------------------\n",
    "Micro | até 19\n",
    "Pequena | 20 a 99\n",
    "Média | 100 a 499\n",
    "Grande | 500 ou mais"
   ]
  },
  {
   "cell_type": "code",
   "execution_count": 6,
   "metadata": {},
   "outputs": [
    {
     "data": {
      "text/plain": [
       "B    640\n",
       "D    582\n",
       "F    511\n",
       "G    641\n",
       "I    690\n",
       "dtype: int64"
      ]
     },
     "execution_count": 6,
     "metadata": {},
     "output_type": "execute_result"
    }
   ],
   "source": [
    "emp = pd.Series(data=[141, 640, 131, 582, 475, 511, 641, 58, 690, 23], index=['A', 'B', 'C', 'D', 'E', 'F', 'G', 'H', 'I', 'J'])\n",
    "\n",
    "mask_grande = emp >= 500\n",
    "grande = emp[mask_grande]\n",
    "grande"
   ]
  },
  {
   "cell_type": "markdown",
   "metadata": {},
   "source": [
    "#### Feedback - Questão 1\n",
    "#import pandas as pd\n",
    "\n",
    "s = pd.Series(data=[141, 640, 131, 582, 475, 511, 641, 58, 690, 23], index='A B C D E F G H I J'.split())\n",
    "\n",
    "s[s > 500]"
   ]
  },
  {
   "cell_type": "markdown",
   "metadata": {},
   "source": [
    "2. Para os dados da questão 1, obtenha uma Series que contenha as empresas de pequeno porte, e outra que \n",
    "contenha as empresas de médio porte."
   ]
  },
  {
   "cell_type": "code",
   "execution_count": 17,
   "metadata": {},
   "outputs": [
    {
     "data": {
      "text/plain": [
       "(H    58\n",
       " J    23\n",
       " dtype: int64,\n",
       " A    141\n",
       " C    131\n",
       " E    475\n",
       " dtype: int64)"
      ]
     },
     "execution_count": 17,
     "metadata": {},
     "output_type": "execute_result"
    }
   ],
   "source": [
    "emp = pd.Series(data=[141, 640, 131, 582, 475, 511, 641, 58, 690, 23], index=['A', 'B', 'C', 'D', 'E', 'F', 'G', 'H', 'I', 'J'])\n",
    "\n",
    "mask_pequeno = (emp > 19) & (emp < 100)\n",
    "pequeno = emp[mask_pequeno]\n",
    "\n",
    "mask_medio = (emp > 99) & (emp < 500)\n",
    "medio = emp[mask_medio]\n",
    "\n",
    "pequeno, medio"
   ]
  },
  {
   "cell_type": "markdown",
   "metadata": {},
   "source": [
    "#### Feedback - Questão 2\n",
    "print('PEQUENO PORTE')\n",
    "print(s[(s >= 20) & (s <= 99)])\n",
    "\n",
    "print('\\nMÉDIO PORTE')\n",
    "print(s[(s >= 100) & (s < 500)])"
   ]
  },
  {
   "cell_type": "markdown",
   "metadata": {},
   "source": [
    "3. De acordo com o Censo de 2010, o PIB médio do estado de Minas Gerais é, aproximadamente, R$ 336523,00. \n",
    "A tabela abaixo apresenta o PIB de algumas cidades desse estados. Considerando o valor médio mencionado anteriormente, \n",
    "crie uma Series com os dados da tabela abaixo e obtenha as cidades que apresentam um PIB superior à media, utilizando o \n",
    "conceito de máscaras.\n",
    "\n",
    "Cidada | PIB\n",
    ":------|:----\n",
    "Uberlândia | 16165950\n",
    "Paraguaçu | 208498\n",
    "Belo Horizonte | 44595200\n",
    "Ouro Fino | 342506\n",
    "Itatiaiuçu | 329979"
   ]
  },
  {
   "cell_type": "code",
   "execution_count": 23,
   "metadata": {},
   "outputs": [
    {
     "data": {
      "text/plain": [
       "Uberlândia        16165950\n",
       "Belo Horizonte    44595200\n",
       "Ouro Fino           342506\n",
       "dtype: int64"
      ]
     },
     "execution_count": 23,
     "metadata": {},
     "output_type": "execute_result"
    }
   ],
   "source": [
    "cid = pd.Series(\n",
    "    data=[16165950, 208498, 44595200, 342506, 329979], \n",
    "    index=['Uberlândia', 'Paraguaçu', 'Belo Horizonte', 'Ouro Fino', 'Itatiaiuçu'])\n",
    "mask_media = (cid > 336523) \n",
    "media = cid[mask_media]\n",
    "\n",
    "media"
   ]
  },
  {
   "cell_type": "markdown",
   "metadata": {},
   "source": [
    "#### Feedback - Questão 3\n",
    "s = pd.Series(\n",
    "data=[16165950, 208498, 44595200, 342506, 329979], index=['Uberlândia', 'Paraguaçu', 'Belo Horizonte', 'Ouro Fino', 'Itatiaiuçu'])\n",
    "\n",
    "s[s > 336523]"
   ]
  },
  {
   "cell_type": "markdown",
   "metadata": {},
   "source": [
    "4. Uma empresa vende 59 produtos diferentes em sua loja. Cada um desses produtos é avaliado pelos clientes (em uma escala que varia de 1 a 5 estrelas) e, com isso, é gerada uma avaliação média de cada um desses produtos. \n",
    "\n",
    "A empresa deseja avaliar com mais detalhes os comentários dos produtos que estão abaixo da média global, ou seja, os produtos que estão abaixo da média da avaliação de todos os produtos da loja. Considerando que você possui a avaliação média de cada produto, obtenha uma lista dos produtos cujos comentários precisarão ser avaliados com mais detalhes.\n",
    "\n",
    "Dica: Para facilitar na criação da Series, utilize a lista com a média das avaliações dos produtos dada abaixo. Além disso, não defina os índices (dessa forma, os índices serão gerados automaticamente, entre 0 e 58).\n",
    "\n",
    "[4.83, 4.75, 3.47, 4.56, 4.21, 4.37, 4.29, 2.95, 4.89, 3.55, 4.53, 3.85, 3.08, 3.37, 4.22, 3.91, 4.42, 2.95, 4.37, 3.34, 4.21, 2.99, 4.78, 3.63, 4.34, 3.06, 4.88, 3.86, 4.61, 4.54, 4.2 , 4.13, 3.06, 4.36, 3.75, 3.43, 3.9 , 3.45, 3.41, 3.29, 4.07, 2.8 , 4.01, 4.46, 2.94, 4.14, 4.55, 4.2 , 3.32, 4.74, 4.27, 4.4 , 4.68, 4.37, 4.7 , 3.05, 3.22, 4.45, 2.97]"
   ]
  },
  {
   "cell_type": "code",
   "execution_count": 6,
   "metadata": {},
   "outputs": [
    {
     "ename": "NameError",
     "evalue": "name 'pd' is not defined",
     "output_type": "error",
     "traceback": [
      "\u001b[1;31m---------------------------------------------------------------------------\u001b[0m",
      "\u001b[1;31mNameError\u001b[0m                                 Traceback (most recent call last)",
      "\u001b[1;32m<ipython-input-6-dd6ec80e86a4>\u001b[0m in \u001b[0;36m<module>\u001b[1;34m\u001b[0m\n\u001b[1;32m----> 1\u001b[1;33m \u001b[0mava\u001b[0m \u001b[1;33m=\u001b[0m \u001b[0mpd\u001b[0m\u001b[1;33m.\u001b[0m\u001b[0mSeries\u001b[0m\u001b[1;33m(\u001b[0m\u001b[1;33m[\u001b[0m\u001b[1;36m4.83\u001b[0m\u001b[1;33m,\u001b[0m \u001b[1;36m4.75\u001b[0m\u001b[1;33m,\u001b[0m \u001b[1;36m3.47\u001b[0m\u001b[1;33m,\u001b[0m \u001b[1;36m4.56\u001b[0m\u001b[1;33m,\u001b[0m \u001b[1;36m4.21\u001b[0m\u001b[1;33m,\u001b[0m \u001b[1;36m4.37\u001b[0m\u001b[1;33m,\u001b[0m \u001b[1;36m4.29\u001b[0m\u001b[1;33m,\u001b[0m \u001b[1;36m2.95\u001b[0m\u001b[1;33m,\u001b[0m \u001b[1;36m4.89\u001b[0m\u001b[1;33m,\u001b[0m \u001b[1;36m3.55\u001b[0m\u001b[1;33m,\u001b[0m \u001b[1;36m4.53\u001b[0m\u001b[1;33m,\u001b[0m \u001b[1;36m3.85\u001b[0m\u001b[1;33m,\u001b[0m \u001b[1;36m3.08\u001b[0m\u001b[1;33m,\u001b[0m \u001b[1;36m3.37\u001b[0m\u001b[1;33m,\u001b[0m \u001b[1;36m4.22\u001b[0m\u001b[1;33m,\u001b[0m \u001b[1;36m3.91\u001b[0m\u001b[1;33m,\u001b[0m \u001b[1;36m4.42\u001b[0m\u001b[1;33m,\u001b[0m \u001b[1;36m2.95\u001b[0m\u001b[1;33m,\u001b[0m \u001b[1;36m4.37\u001b[0m\u001b[1;33m,\u001b[0m \u001b[1;36m3.34\u001b[0m\u001b[1;33m,\u001b[0m \u001b[1;36m4.21\u001b[0m\u001b[1;33m,\u001b[0m \u001b[1;36m2.99\u001b[0m\u001b[1;33m,\u001b[0m \u001b[1;36m4.78\u001b[0m\u001b[1;33m,\u001b[0m \u001b[1;36m3.63\u001b[0m\u001b[1;33m,\u001b[0m \u001b[1;36m4.34\u001b[0m\u001b[1;33m,\u001b[0m \u001b[1;36m3.06\u001b[0m\u001b[1;33m,\u001b[0m \u001b[1;36m4.88\u001b[0m\u001b[1;33m,\u001b[0m \u001b[1;36m3.86\u001b[0m\u001b[1;33m,\u001b[0m \u001b[1;36m4.61\u001b[0m\u001b[1;33m,\u001b[0m \u001b[1;36m4.54\u001b[0m\u001b[1;33m,\u001b[0m \u001b[1;36m4.2\u001b[0m \u001b[1;33m,\u001b[0m \u001b[1;36m4.13\u001b[0m\u001b[1;33m,\u001b[0m \u001b[1;36m3.06\u001b[0m\u001b[1;33m,\u001b[0m \u001b[1;36m4.36\u001b[0m\u001b[1;33m,\u001b[0m \u001b[1;36m3.75\u001b[0m\u001b[1;33m,\u001b[0m \u001b[1;36m3.43\u001b[0m\u001b[1;33m,\u001b[0m \u001b[1;36m3.9\u001b[0m \u001b[1;33m,\u001b[0m \u001b[1;36m3.45\u001b[0m\u001b[1;33m,\u001b[0m \u001b[1;36m3.41\u001b[0m\u001b[1;33m,\u001b[0m \u001b[1;36m3.29\u001b[0m\u001b[1;33m,\u001b[0m \u001b[1;36m4.07\u001b[0m\u001b[1;33m,\u001b[0m \u001b[1;36m2.8\u001b[0m \u001b[1;33m,\u001b[0m \u001b[1;36m4.01\u001b[0m\u001b[1;33m,\u001b[0m \u001b[1;36m4.46\u001b[0m\u001b[1;33m,\u001b[0m \u001b[1;36m2.94\u001b[0m\u001b[1;33m,\u001b[0m \u001b[1;36m4.14\u001b[0m\u001b[1;33m,\u001b[0m \u001b[1;36m4.55\u001b[0m\u001b[1;33m,\u001b[0m \u001b[1;36m4.2\u001b[0m \u001b[1;33m,\u001b[0m \u001b[1;36m3.32\u001b[0m\u001b[1;33m,\u001b[0m \u001b[1;36m4.74\u001b[0m\u001b[1;33m,\u001b[0m \u001b[1;36m4.27\u001b[0m\u001b[1;33m,\u001b[0m \u001b[1;36m4.4\u001b[0m \u001b[1;33m,\u001b[0m \u001b[1;36m4.68\u001b[0m\u001b[1;33m,\u001b[0m \u001b[1;36m4.37\u001b[0m\u001b[1;33m,\u001b[0m \u001b[1;36m4.7\u001b[0m \u001b[1;33m,\u001b[0m \u001b[1;36m3.05\u001b[0m\u001b[1;33m,\u001b[0m \u001b[1;36m3.22\u001b[0m\u001b[1;33m,\u001b[0m \u001b[1;36m4.45\u001b[0m\u001b[1;33m,\u001b[0m \u001b[1;36m2.97\u001b[0m\u001b[1;33m]\u001b[0m\u001b[1;33m)\u001b[0m\u001b[1;33m\u001b[0m\u001b[1;33m\u001b[0m\u001b[0m\n\u001b[0m\u001b[0;32m      2\u001b[0m \u001b[0mmedia\u001b[0m \u001b[1;33m=\u001b[0m \u001b[0mava\u001b[0m\u001b[1;33m.\u001b[0m\u001b[0mmean\u001b[0m\u001b[1;33m(\u001b[0m\u001b[1;33m)\u001b[0m\u001b[1;33m\u001b[0m\u001b[1;33m\u001b[0m\u001b[0m\n\u001b[0;32m      3\u001b[0m \u001b[0mmask_med\u001b[0m \u001b[1;33m=\u001b[0m \u001b[0mava\u001b[0m \u001b[1;33m<\u001b[0m \u001b[0mmedia\u001b[0m\u001b[1;33m\u001b[0m\u001b[1;33m\u001b[0m\u001b[0m\n\u001b[0;32m      4\u001b[0m \u001b[0mm\u001b[0m \u001b[1;33m=\u001b[0m \u001b[0mava\u001b[0m\u001b[1;33m[\u001b[0m\u001b[0mmask_med\u001b[0m\u001b[1;33m]\u001b[0m\u001b[1;33m\u001b[0m\u001b[1;33m\u001b[0m\u001b[0m\n\u001b[0;32m      5\u001b[0m \u001b[0mm\u001b[0m\u001b[1;33m\u001b[0m\u001b[1;33m\u001b[0m\u001b[0m\n",
      "\u001b[1;31mNameError\u001b[0m: name 'pd' is not defined"
     ]
    }
   ],
   "source": [
    "ava = pd.Series([4.83, 4.75, 3.47, 4.56, 4.21, 4.37, 4.29, 2.95, 4.89, 3.55, 4.53, 3.85, 3.08, 3.37, 4.22, 3.91, 4.42, 2.95, 4.37, 3.34, 4.21, 2.99, 4.78, 3.63, 4.34, 3.06, 4.88, 3.86, 4.61, 4.54, 4.2 , 4.13, 3.06, 4.36, 3.75, 3.43, 3.9 , 3.45, 3.41, 3.29, 4.07, 2.8 , 4.01, 4.46, 2.94, 4.14, 4.55, 4.2 , 3.32, 4.74, 4.27, 4.4 , 4.68, 4.37, 4.7 , 3.05, 3.22, 4.45, 2.97])\n",
    "media = ava.mean()\n",
    "mask_med = ava < media\n",
    "m = ava[mask_med]\n",
    "m"
   ]
  },
  {
   "cell_type": "markdown",
   "metadata": {},
   "source": [
    "#### Feedback - Questão 4\n",
    "#import pandas as pd\n",
    "\n",
    "s = pd.Series(data=[4.83, 4.75, 3.47, 4.56, 4.21, 4.37, 4.29, 2.95, 4.89, 3.55, 4.53, 3.85, 3.08, 3.37, 4.22, 3.91, 4.42, 2.95, 4.37, 3.34, 4.21, 2.99, 4.78, 3.63, 4.34, 3.06, 4.88, 3.86, 4.61, 4.54, 4.2 , 4.13, 3.06, 4.36, 3.75, 3.43, 3.9 , 3.45, 3.41, 3.29, 4.07, 2.8 , 4.01, 4.46, 2.94, 4.14, 4.55, 4.2 , 3.32, 4.74, 4.27, 4.4 , 4.68, 4.37, 4.7 , 3.05, 3.22, 4.45, 2.97])\n",
    "\n",
    "s[s < s.mean()].index"
   ]
  },
  {
   "cell_type": "code",
   "execution_count": null,
   "metadata": {},
   "outputs": [],
   "source": []
  },
  {
   "cell_type": "code",
   "execution_count": null,
   "metadata": {},
   "outputs": [],
   "source": []
  }
 ],
 "metadata": {
  "kernelspec": {
   "display_name": "Python 3",
   "language": "python",
   "name": "python3"
  },
  "language_info": {
   "codemirror_mode": {
    "name": "ipython",
    "version": 3
   },
   "file_extension": ".py",
   "mimetype": "text/x-python",
   "name": "python",
   "nbconvert_exporter": "python",
   "pygments_lexer": "ipython3",
   "version": "3.9.1"
  }
 },
 "nbformat": 4,
 "nbformat_minor": 4
}
