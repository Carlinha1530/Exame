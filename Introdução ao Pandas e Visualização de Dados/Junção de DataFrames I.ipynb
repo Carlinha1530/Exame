{
 "cells": [
  {
   "cell_type": "markdown",
   "metadata": {},
   "source": [
    "##### Junção de DataFrames I"
   ]
  },
  {
   "cell_type": "code",
   "execution_count": 1,
   "metadata": {},
   "outputs": [],
   "source": [
    "import pandas as pd"
   ]
  },
  {
   "cell_type": "code",
   "execution_count": null,
   "metadata": {},
   "outputs": [],
   "source": [
    "# Leitura de arquivos\n",
    "titanic_teste = pd.read_csv('test.csv')\n",
    "titanic_train = pd.read_csv('train.csv')"
   ]
  },
  {
   "cell_type": "code",
   "execution_count": null,
   "metadata": {},
   "outputs": [],
   "source": [
    "# CONCATENAÇÃO VERTICAL\n",
    "# Concatenação dos dataframes\n",
    "titanic = pd.concat([titanic_train, titanic_test])\n",
    "titanic.info()\n",
    "titanic_test.info()\n",
    "titanic_train.info()"
   ]
  },
  {
   "cell_type": "code",
   "execution_count": null,
   "metadata": {},
   "outputs": [],
   "source": [
    "# get_dummies função que transforma dados categorigos(geralmente textuais) em númeross \n",
    "# Essa função retorna um novo dataframe que possui esses dados transformados\n",
    "male_famale = pd.get_dummies(titanic.Sex)"
   ]
  },
  {
   "cell_type": "code",
   "execution_count": null,
   "metadata": {},
   "outputs": [],
   "source": [
    "male_famale.head()"
   ]
  },
  {
   "cell_type": "code",
   "execution_count": null,
   "metadata": {},
   "outputs": [],
   "source": [
    "# Concatenação dos dataframes\n",
    "# parametro axis para juntar a transformação do sexo com o dataframe original\n",
    "\n",
    "titanic_total = pd.concat([titanic, male_female], axis=1)"
   ]
  },
  {
   "cell_type": "code",
   "execution_count": null,
   "metadata": {},
   "outputs": [],
   "source": [
    "titanic_total.head()"
   ]
  }
 ],
 "metadata": {
  "kernelspec": {
   "display_name": "Python 3",
   "language": "python",
   "name": "python3"
  },
  "language_info": {
   "codemirror_mode": {
    "name": "ipython",
    "version": 3
   },
   "file_extension": ".py",
   "mimetype": "text/x-python",
   "name": "python",
   "nbconvert_exporter": "python",
   "pygments_lexer": "ipython3",
   "version": "3.9.1"
  }
 },
 "nbformat": 4,
 "nbformat_minor": 4
}
