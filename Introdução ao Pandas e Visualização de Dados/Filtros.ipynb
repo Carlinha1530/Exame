{
 "cells": [
  {
   "cell_type": "code",
   "execution_count": 3,
   "metadata": {},
   "outputs": [],
   "source": [
    "import pandas as pd;"
   ]
  },
  {
   "cell_type": "code",
   "execution_count": 2,
   "metadata": {},
   "outputs": [],
   "source": [
    "ss = pd.Series([8,3,5,10])"
   ]
  },
  {
   "cell_type": "code",
   "execution_count": 3,
   "metadata": {},
   "outputs": [
    {
     "data": {
      "text/plain": [
       "0     True\n",
       "1    False\n",
       "2    False\n",
       "3     True\n",
       "dtype: bool"
      ]
     },
     "execution_count": 3,
     "metadata": {},
     "output_type": "execute_result"
    }
   ],
   "source": [
    "ss > 5"
   ]
  },
  {
   "cell_type": "code",
   "execution_count": 4,
   "metadata": {},
   "outputs": [
    {
     "data": {
      "text/plain": [
       "0     True\n",
       "1    False\n",
       "2    False\n",
       "3     True\n",
       "dtype: bool"
      ]
     },
     "execution_count": 4,
     "metadata": {},
     "output_type": "execute_result"
    }
   ],
   "source": [
    "s1 = pd.Series([8,3,5,10])\n",
    "s2 = pd.Series([3, 9, 7, 6])\n",
    "\n",
    "s1 > s2"
   ]
  },
  {
   "cell_type": "markdown",
   "metadata": {},
   "source": [
    "#### Mascara que pega apenas os valores acima de 5"
   ]
  },
  {
   "cell_type": "code",
   "execution_count": 5,
   "metadata": {},
   "outputs": [],
   "source": [
    "ss = pd.Series([8,3,5,10])"
   ]
  },
  {
   "cell_type": "code",
   "execution_count": 6,
   "metadata": {},
   "outputs": [],
   "source": [
    "mask_acima_5 = ss > 5"
   ]
  },
  {
   "cell_type": "code",
   "execution_count": 8,
   "metadata": {},
   "outputs": [],
   "source": [
    "acima_5 = ss[mask_acima_5]"
   ]
  },
  {
   "cell_type": "code",
   "execution_count": 9,
   "metadata": {},
   "outputs": [
    {
     "data": {
      "text/plain": [
       "0     8\n",
       "3    10\n",
       "dtype: int64"
      ]
     },
     "execution_count": 9,
     "metadata": {},
     "output_type": "execute_result"
    }
   ],
   "source": [
    "acima_5"
   ]
  },
  {
   "cell_type": "markdown",
   "metadata": {},
   "source": [
    "#### Os conectivos em 'series' são substituidos\n",
    "AND por &\n",
    "OR por |\n",
    "NOT por ~"
   ]
  },
  {
   "cell_type": "markdown",
   "metadata": {},
   "source": [
    "## ------------------------------------------------EXERCICIOS---------------------------------------------------------------"
   ]
  },
  {
   "cell_type": "markdown",
   "metadata": {},
   "source": [
    "### 1. Considere 10 (dez) empresas (A, B, C, D, E, F, G, H, I e J) que possuem um número de funcionários que é apresentado na tabela abaixo:\n",
    "\n",
    "Empresa | Número de Funcionários\n",
    ":-------|:----------------------\n",
    "A | 141\n",
    "B | 640\n",
    "C | 131\n",
    "D | 582\n",
    "E | 475\n",
    "F | 511\n",
    "G | 641\n",
    "H | 58\n",
    "I | 690\n",
    "J | 23\n",
    "\n",
    "### Considerando os dados acima e, também, a classificação do porte da empresa pelo número de funcionários, feita pelo IBGE (relembre essa classificação na tabela abaixo), obtenha uma Series que contenha apenas as empresas de grande porte.\n",
    "\n",
    "Tamanho da Empresa | Número de Funcionários\n",
    ":------------------|:----------------------\n",
    "Micro | até 19\n",
    "Pequena | 20 a 99\n",
    "Média | 100 a 499\n",
    "Grande | 500 ou mais"
   ]
  },
  {
   "cell_type": "code",
   "execution_count": 4,
   "metadata": {},
   "outputs": [
    {
     "data": {
      "text/plain": [
       "B    640\n",
       "D    582\n",
       "F    511\n",
       "G    641\n",
       "I    690\n",
       "dtype: int64"
      ]
     },
     "execution_count": 4,
     "metadata": {},
     "output_type": "execute_result"
    }
   ],
   "source": [
    "emp = pd.Series(data=[141, 640, 131, 582, 475, 511, 641, 58, 690, 23], index=['A', 'B', 'C', 'D', 'E', 'F', 'G', 'H', 'I', 'J'])\n",
    "\n",
    "mask_grande = emp >= 500\n",
    "grande = emp[mask_grande]\n",
    "grande"
   ]
  },
  {
   "cell_type": "markdown",
   "metadata": {},
   "source": [
    "#### Feedback - Questão 1\n",
    "#import pandas as pd\n",
    "\n",
    "s = pd.Series(data=[141, 640, 131, 582, 475, 511, 641, 58, 690, 23], index='A B C D E F G H I J'.split())\n",
    "\n",
    "s[s > 500]"
   ]
  },
  {
   "cell_type": "markdown",
   "metadata": {},
   "source": [
    "### 2. Para os dados da questão 1, obtenha uma Series que contenha as empresas de pequeno porte, e outra que contenha as empresas de médio porte."
   ]
  },
  {
   "cell_type": "code",
   "execution_count": 5,
   "metadata": {},
   "outputs": [
    {
     "data": {
      "text/plain": [
       "(H    58\n",
       " J    23\n",
       " dtype: int64,\n",
       " A    141\n",
       " C    131\n",
       " E    475\n",
       " dtype: int64)"
      ]
     },
     "execution_count": 5,
     "metadata": {},
     "output_type": "execute_result"
    }
   ],
   "source": [
    "emp = pd.Series(data=[141, 640, 131, 582, 475, 511, 641, 58, 690, 23], index=['A', 'B', 'C', 'D', 'E', 'F', 'G', 'H', 'I', 'J'])\n",
    "\n",
    "mask_pequeno = (emp > 19) & (emp < 100)\n",
    "pequeno = emp[mask_pequeno]\n",
    "\n",
    "mask_medio = (emp > 99) & (emp < 500)\n",
    "medio = emp[mask_medio]\n",
    "\n",
    "pequeno, medio"
   ]
  },
  {
   "cell_type": "markdown",
   "metadata": {},
   "source": [
    "#### Feedback - Questão 2\n",
    "print('PEQUENO PORTE')\n",
    "print(s[(s >= 20) & (s <= 99)])\n",
    "\n",
    "print('\\nMÉDIO PORTE')\n",
    "print(s[(s >= 100) & (s < 500)])"
   ]
  },
  {
   "cell_type": "markdown",
   "metadata": {},
   "source": [
    "### 3. De acordo com o Censo de 2010, o PIB médio do estado de Minas Gerais é, aproximadamente, R 336523,00. A tabela abaixo apresenta o PIB de algumas cidades desse estados. Considerando o valor médio mencionado anteriormente, crie uma Series com os dados da tabela abaixo e obtenha as cidades que apresentam um PIB superior à media, utilizando o conceito de máscaras.\n",
    "\n",
    "Cidada | PIB\n",
    ":------|:----\n",
    "Uberlândia | 16165950\n",
    "Paraguaçu | 208498\n",
    "Belo Horizonte | 44595200\n",
    "Ouro Fino | 342506\n",
    "Itatiaiuçu | 329979"
   ]
  },
  {
   "cell_type": "code",
   "execution_count": 6,
   "metadata": {},
   "outputs": [
    {
     "data": {
      "text/plain": [
       "Uberlândia        16165950\n",
       "Belo Horizonte    44595200\n",
       "Ouro Fino           342506\n",
       "dtype: int64"
      ]
     },
     "execution_count": 6,
     "metadata": {},
     "output_type": "execute_result"
    }
   ],
   "source": [
    "cid = pd.Series(\n",
    "    data=[16165950, 208498, 44595200, 342506, 329979], \n",
    "    index=['Uberlândia', 'Paraguaçu', 'Belo Horizonte', 'Ouro Fino', 'Itatiaiuçu'])\n",
    "mask_media = (cid > 336523) \n",
    "media = cid[mask_media]\n",
    "\n",
    "media"
   ]
  },
  {
   "cell_type": "markdown",
   "metadata": {},
   "source": [
    "#### Feedback - Questão 3\n",
    "s = pd.Series(\n",
    "data=[16165950, 208498, 44595200, 342506, 329979], index=['Uberlândia', 'Paraguaçu', 'Belo Horizonte', 'Ouro Fino', 'Itatiaiuçu'])\n",
    "\n",
    "s[s > 336523]"
   ]
  },
  {
   "cell_type": "markdown",
   "metadata": {},
   "source": [
    "### 4. Uma empresa vende 59 produtos diferentes em sua loja. Cada um desses produtos é avaliado pelos clientes (em uma escala que varia de 1 a 5 estrelas) e, com isso, é gerada uma avaliação média de cada um desses produtos. \n",
    "\n",
    "### A empresa deseja avaliar com mais detalhes os comentários dos produtos que estão abaixo da média global, ou seja, os produtos que estão abaixo da média da avaliação de todos os produtos da loja. Considerando que você possui a avaliação média de cada produto, obtenha uma lista dos produtos cujos comentários precisarão ser avaliados com mais detalhes.\n",
    "\n",
    "### Dica: Para facilitar na criação da Series, utilize a lista com a média das avaliações dos produtos dada abaixo. Além disso, não defina os índices (dessa forma, os índices serão gerados automaticamente, entre 0 e 58).\n",
    "\n",
    "### [4.83, 4.75, 3.47, 4.56, 4.21, 4.37, 4.29, 2.95, 4.89, 3.55, 4.53, 3.85, 3.08, 3.37, 4.22, 3.91, 4.42, 2.95, 4.37, 3.34, 4.21, 2.99, 4.78, 3.63, 4.34, 3.06, 4.88, 3.86, 4.61, 4.54, 4.2 , 4.13, 3.06, 4.36, 3.75, 3.43, 3.9 , 3.45, 3.41, 3.29, 4.07, 2.8 , 4.01, 4.46, 2.94, 4.14, 4.55, 4.2 , 3.32, 4.74, 4.27, 4.4 , 4.68, 4.37, 4.7 , 3.05, 3.22, 4.45, 2.97]"
   ]
  },
  {
   "cell_type": "code",
   "execution_count": 7,
   "metadata": {},
   "outputs": [
    {
     "data": {
      "text/plain": [
       "2     3.47\n",
       "7     2.95\n",
       "9     3.55\n",
       "11    3.85\n",
       "12    3.08\n",
       "13    3.37\n",
       "15    3.91\n",
       "17    2.95\n",
       "19    3.34\n",
       "21    2.99\n",
       "23    3.63\n",
       "25    3.06\n",
       "27    3.86\n",
       "32    3.06\n",
       "34    3.75\n",
       "35    3.43\n",
       "36    3.90\n",
       "37    3.45\n",
       "38    3.41\n",
       "39    3.29\n",
       "41    2.80\n",
       "44    2.94\n",
       "48    3.32\n",
       "55    3.05\n",
       "56    3.22\n",
       "58    2.97\n",
       "dtype: float64"
      ]
     },
     "execution_count": 7,
     "metadata": {},
     "output_type": "execute_result"
    }
   ],
   "source": [
    "ava = pd.Series([4.83, 4.75, 3.47, 4.56, 4.21, 4.37, 4.29, 2.95, 4.89, 3.55, 4.53, 3.85, 3.08, 3.37, 4.22, 3.91, 4.42, 2.95, 4.37, 3.34, 4.21, 2.99, 4.78, 3.63, 4.34, 3.06, 4.88, 3.86, 4.61, 4.54, 4.2 , 4.13, 3.06, 4.36, 3.75, 3.43, 3.9 , 3.45, 3.41, 3.29, 4.07, 2.8 , 4.01, 4.46, 2.94, 4.14, 4.55, 4.2 , 3.32, 4.74, 4.27, 4.4 , 4.68, 4.37, 4.7 , 3.05, 3.22, 4.45, 2.97])\n",
    "media = ava.mean()\n",
    "mask_med = ava < media\n",
    "m = ava[mask_med]\n",
    "m"
   ]
  },
  {
   "cell_type": "markdown",
   "metadata": {},
   "source": [
    "#### Feedback - Questão 4\n",
    "#import pandas as pd\n",
    "\n",
    "s = pd.Series(data=[4.83, 4.75, 3.47, 4.56, 4.21, 4.37, 4.29, 2.95, 4.89, 3.55, 4.53, 3.85, 3.08, 3.37, 4.22, 3.91, 4.42, 2.95, 4.37, 3.34, 4.21, 2.99, 4.78, 3.63, 4.34, 3.06, 4.88, 3.86, 4.61, 4.54, 4.2 , 4.13, 3.06, 4.36, 3.75, 3.43, 3.9 , 3.45, 3.41, 3.29, 4.07, 2.8 , 4.01, 4.46, 2.94, 4.14, 4.55, 4.2 , 3.32, 4.74, 4.27, 4.4 , 4.68, 4.37, 4.7 , 3.05, 3.22, 4.45, 2.97])\n",
    "\n",
    "s[s < s.mean()].index"
   ]
  },
  {
   "cell_type": "code",
   "execution_count": null,
   "metadata": {},
   "outputs": [],
   "source": []
  }
 ],
 "metadata": {
  "kernelspec": {
   "display_name": "Python 3",
   "language": "python",
   "name": "python3"
  },
  "language_info": {
   "codemirror_mode": {
    "name": "ipython",
    "version": 3
   },
   "file_extension": ".py",
   "mimetype": "text/x-python",
   "name": "python",
   "nbconvert_exporter": "python",
   "pygments_lexer": "ipython3",
   "version": "3.9.1"
  }
 },
 "nbformat": 4,
 "nbformat_minor": 4
}
