{
 "cells": [
  {
   "cell_type": "code",
   "execution_count": 3,
   "metadata": {},
   "outputs": [],
   "source": [
    "def sum_all(*numbers):\n",
    "    soma = 0\n",
    "    \n",
    "    for n in numbers:\n",
    "        soma = soma + n\n",
    "        \n",
    "    return soma      \n",
    "\n",
    "        \n",
    "    #print(numbers)"
   ]
  },
  {
   "cell_type": "code",
   "execution_count": 4,
   "metadata": {},
   "outputs": [
    {
     "data": {
      "text/plain": [
       "6"
      ]
     },
     "execution_count": 4,
     "metadata": {},
     "output_type": "execute_result"
    }
   ],
   "source": [
    "sum_all(1, 2, 3)"
   ]
  },
  {
   "cell_type": "code",
   "execution_count": 8,
   "metadata": {},
   "outputs": [],
   "source": [
    "#Ao usar kwargs estamos transformando os parâmetros em um dicionario\n",
    "#imprimindo os pares chaves e valores \n",
    "\n",
    "def imprime_empresa(**kwargs):\n",
    "    for key in kwargs:\n",
    "        print(key, \":\",kwargs[key])"
   ]
  },
  {
   "cell_type": "code",
   "execution_count": 9,
   "metadata": {},
   "outputs": [
    {
     "name": "stdout",
     "output_type": "stream",
     "text": [
      "nome : Let's Code\n",
      "n_funcionarios : 50\n",
      "localizacao : São Paulo\n"
     ]
    }
   ],
   "source": [
    "imprime_empresa(nome = \"Let's Code\", n_funcionarios = 50, localizacao = \"São Paulo\")"
   ]
  },
  {
   "cell_type": "markdown",
   "metadata": {},
   "source": [
    "EXERCICIOS Args e Kwargs\n",
    "Crie uma função que receba um número indefinido de números e retorne a média deles utilizando *args. Você pode escolher os números direto na chamada da função.\n",
    "\n",
    "Exemplo de saída para os números 3, 4, 28, 16, 38, 10 e 5: A média é:  14.857142857142858"
   ]
  },
  {
   "cell_type": "code",
   "execution_count": 18,
   "metadata": {},
   "outputs": [],
   "source": [
    "def sum_all(*numbers):\n",
    "    soma = 0\n",
    "    \n",
    "    for n in numbers:\n",
    "        soma = soma + n\n",
    "        \n",
    "    return soma/len(numbers)      \n",
    "\n",
    "\n",
    "\n"
   ]
  },
  {
   "cell_type": "code",
   "execution_count": 19,
   "metadata": {},
   "outputs": [
    {
     "data": {
      "text/plain": [
       "14.857142857142858"
      ]
     },
     "execution_count": 19,
     "metadata": {},
     "output_type": "execute_result"
    }
   ],
   "source": [
    "sum_all(3, 4, 28, 16, 38, 10, 5)"
   ]
  },
  {
   "cell_type": "markdown",
   "metadata": {},
   "source": [
    "EXERCICIO - Feedback"
   ]
  },
  {
   "cell_type": "code",
   "execution_count": 20,
   "metadata": {},
   "outputs": [],
   "source": [
    "def media_numeros(*numeros):\n",
    "    soma = 0\n",
    "    for numero in numeros:\n",
    "        soma += numero\n",
    "    media = soma/len(numeros)\n",
    "    return media\n",
    "\n"
   ]
  },
  {
   "cell_type": "code",
   "execution_count": 21,
   "metadata": {},
   "outputs": [
    {
     "name": "stdout",
     "output_type": "stream",
     "text": [
      "A média é:  14.857142857142858\n"
     ]
    }
   ],
   "source": [
    "resultado = media_numeros(3,4,28,16,38,10,5)\n",
    "\n",
    "print(\"A média é: \", resultado)"
   ]
  },
  {
   "cell_type": "code",
   "execution_count": null,
   "metadata": {},
   "outputs": [],
   "source": []
  }
 ],
 "metadata": {
  "kernelspec": {
   "display_name": "Python 3",
   "language": "python",
   "name": "python3"
  },
  "language_info": {
   "codemirror_mode": {
    "name": "ipython",
    "version": 3
   },
   "file_extension": ".py",
   "mimetype": "text/x-python",
   "name": "python",
   "nbconvert_exporter": "python",
   "pygments_lexer": "ipython3",
   "version": "3.9.1"
  }
 },
 "nbformat": 4,
 "nbformat_minor": 4
}
