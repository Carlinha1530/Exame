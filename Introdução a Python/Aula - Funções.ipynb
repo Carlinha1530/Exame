{
 "cells": [
  {
   "cell_type": "code",
   "execution_count": 1,
   "metadata": {},
   "outputs": [],
   "source": [
    "# Criação de uma função\n",
    "\n",
    "def saudacao():\n",
    "    print(\"Olá você.\")\n",
    "\n"
   ]
  },
  {
   "cell_type": "code",
   "execution_count": 2,
   "metadata": {},
   "outputs": [
    {
     "name": "stdout",
     "output_type": "stream",
     "text": [
      "Olá você.\n"
     ]
    }
   ],
   "source": [
    "saudacao()"
   ]
  },
  {
   "cell_type": "markdown",
   "metadata": {},
   "source": [
    "CRIE UMA FUNÇÃO QUE RECEBA UM NÚMERO E RETORNE O SEU VALOR AO QUADRADO. A FUNÇÃO NÃO DEVE USAR METODO DE IMPRESSÃO, FAÃ ISSO FORA DA FUNÇÃO."
   ]
  },
  {
   "cell_type": "code",
   "execution_count": 21,
   "metadata": {},
   "outputs": [],
   "source": [
    "def quadrado(valor):\n",
    "    qd = int(valor) \n",
    "    resultado = qd * qd\n",
    "    print(resultado)\n",
    "    "
   ]
  },
  {
   "cell_type": "code",
   "execution_count": 23,
   "metadata": {},
   "outputs": [
    {
     "name": "stdout",
     "output_type": "stream",
     "text": [
      "Informe o valor: 7\n",
      "49\n"
     ]
    }
   ],
   "source": [
    "str_valor = input(\"Informe o valor: \")\n",
    "quadrado(str_valor)"
   ]
  },
  {
   "cell_type": "markdown",
   "metadata": {},
   "source": [
    "Resultado exercicio - precisão"
   ]
  },
  {
   "cell_type": "code",
   "execution_count": 24,
   "metadata": {},
   "outputs": [],
   "source": [
    "def potencia2(numero):\n",
    "    return numero*numero\n"
   ]
  },
  {
   "cell_type": "code",
   "execution_count": 26,
   "metadata": {},
   "outputs": [
    {
     "name": "stdout",
     "output_type": "stream",
     "text": [
      "Digite um número: 5\n",
      "O quadrado é:  25.0\n"
     ]
    }
   ],
   "source": [
    "num = float(input(\"Digite um número: \"))\n",
    "resultado = potencia2(num)\n",
    "\n",
    "print(\"O quadrado é: \", resultado)"
   ]
  },
  {
   "cell_type": "markdown",
   "metadata": {},
   "source": [
    "Continuação da aula"
   ]
  },
  {
   "cell_type": "code",
   "execution_count": 27,
   "metadata": {},
   "outputs": [],
   "source": [
    "def saudacao(nome):\n",
    "    print(\"Olá \"+nome+\".\")"
   ]
  },
  {
   "cell_type": "code",
   "execution_count": 32,
   "metadata": {},
   "outputs": [
    {
     "name": "stdout",
     "output_type": "stream",
     "text": [
      "Olá Pietro.\n",
      "Olá José.\n",
      "Olá Maria.\n",
      "Olá Joáo.\n"
     ]
    }
   ],
   "source": [
    "saudacao(\"Pietro\")\n",
    "saudacao(\"José\")\n",
    "saudacao(\"Maria\")\n",
    "saudacao(\"Joáo\")"
   ]
  },
  {
   "cell_type": "code",
   "execution_count": 33,
   "metadata": {},
   "outputs": [],
   "source": [
    "def saudacao(nome):\n",
    "    final_string = \"Olá \"+nome+\".\"\n",
    "    \n",
    "    return final_string"
   ]
  },
  {
   "cell_type": "code",
   "execution_count": 34,
   "metadata": {},
   "outputs": [
    {
     "name": "stdout",
     "output_type": "stream",
     "text": [
      "Olá Pietro.\n"
     ]
    }
   ],
   "source": [
    "resultado = saudacao(\"Pietro\")\n",
    "print(resultado)"
   ]
  },
  {
   "cell_type": "code",
   "execution_count": 35,
   "metadata": {},
   "outputs": [
    {
     "name": "stdout",
     "output_type": "stream",
     "text": [
      "PietroPietroPietroPietro"
     ]
    }
   ],
   "source": [
    "print(\"Pietro\", end=\"\")\n",
    "print(\"Pietro\", end=\"\")\n",
    "print(\"Pietro\", end=\"\")\n",
    "print(\"Pietro\", end=\"\")\n"
   ]
  },
  {
   "cell_type": "code",
   "execution_count": 36,
   "metadata": {},
   "outputs": [],
   "source": [
    "# com defalt\n",
    "def saudacao(nome = \"Fulano\"):\n",
    "    final_string = \"Olá \"+nome+\".\"\n",
    "    \n",
    "    return final_string"
   ]
  },
  {
   "cell_type": "code",
   "execution_count": 37,
   "metadata": {},
   "outputs": [
    {
     "name": "stdout",
     "output_type": "stream",
     "text": [
      "Olá Fulano.\n"
     ]
    }
   ],
   "source": [
    "resultado2 = saudacao()\n",
    "print(resultado2)"
   ]
  },
  {
   "cell_type": "markdown",
   "metadata": {},
   "source": [
    "EXERCICIOS FUNÇÕES II\n",
    "Crie uma função que receba um número e retorne o seu valor ao quadrado. A função não deve usar métodos de impressão, faça isso fora da função. "
   ]
  },
  {
   "cell_type": "code",
   "execution_count": 39,
   "metadata": {},
   "outputs": [],
   "source": [
    "def quad(numero):\n",
    "    return numero*numero"
   ]
  },
  {
   "cell_type": "code",
   "execution_count": 40,
   "metadata": {
    "scrolled": true
   },
   "outputs": [
    {
     "name": "stdout",
     "output_type": "stream",
     "text": [
      "Digite um número: 7\n",
      "O quadrado é:  49.0\n"
     ]
    }
   ],
   "source": [
    "valor = float(input(\"Digite um número: \"))\n",
    "resultado = quad(valor)\n",
    "\n",
    "print(\"O quadrado é: \", resultado)"
   ]
  },
  {
   "cell_type": "code",
   "execution_count": null,
   "metadata": {},
   "outputs": [],
   "source": []
  }
 ],
 "metadata": {
  "kernelspec": {
   "display_name": "Python 3",
   "language": "python",
   "name": "python3"
  },
  "language_info": {
   "codemirror_mode": {
    "name": "ipython",
    "version": 3
   },
   "file_extension": ".py",
   "mimetype": "text/x-python",
   "name": "python",
   "nbconvert_exporter": "python",
   "pygments_lexer": "ipython3",
   "version": "3.9.1"
  }
 },
 "nbformat": 4,
 "nbformat_minor": 4
}
