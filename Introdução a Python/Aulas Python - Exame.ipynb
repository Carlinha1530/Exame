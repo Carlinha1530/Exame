{
 "cells": [
  {
   "cell_type": "code",
   "execution_count": 1,
   "metadata": {},
   "outputs": [
    {
     "name": "stdout",
     "output_type": "stream",
     "text": [
      "Hello, Word!\n"
     ]
    }
   ],
   "source": [
    "print(\"Hello, Word!\")"
   ]
  },
  {
   "cell_type": "code",
   "execution_count": 2,
   "metadata": {},
   "outputs": [
    {
     "name": "stdout",
     "output_type": "stream",
     "text": [
      "10\n"
     ]
    }
   ],
   "source": [
    "numero = 10\n",
    "print(numero)"
   ]
  },
  {
   "cell_type": "code",
   "execution_count": 4,
   "metadata": {},
   "outputs": [
    {
     "name": "stdout",
     "output_type": "stream",
     "text": [
      "30\n"
     ]
    }
   ],
   "source": [
    "quantidade = 30\n",
    "print(quantidade)"
   ]
  },
  {
   "cell_type": "code",
   "execution_count": 7,
   "metadata": {},
   "outputs": [
    {
     "name": "stdout",
     "output_type": "stream",
     "text": [
      "33\n"
     ]
    }
   ],
   "source": [
    "quantidade = quantidade +1\n",
    "print(quantidade)"
   ]
  },
  {
   "cell_type": "code",
   "execution_count": 8,
   "metadata": {},
   "outputs": [
    {
     "name": "stdout",
     "output_type": "stream",
     "text": [
      "45.5 2.5 43.0\n"
     ]
    }
   ],
   "source": [
    "preco = 45.50\n",
    "desconto = 2.50\n",
    "valor_final = preco - desconto\n",
    "print(preco, desconto, valor_final)"
   ]
  },
  {
   "cell_type": "code",
   "execution_count": 10,
   "metadata": {},
   "outputs": [
    {
     "name": "stdout",
     "output_type": "stream",
     "text": [
      "São Paulo\n"
     ]
    }
   ],
   "source": [
    "cidade = \"São Paulo\"\n",
    "print(cidade)"
   ]
  },
  {
   "cell_type": "code",
   "execution_count": 11,
   "metadata": {},
   "outputs": [],
   "source": [
    "disponivel = True"
   ]
  },
  {
   "cell_type": "code",
   "execution_count": 12,
   "metadata": {},
   "outputs": [
    {
     "name": "stdout",
     "output_type": "stream",
     "text": [
      "True\n"
     ]
    }
   ],
   "source": [
    "print(disponivel)"
   ]
  },
  {
   "cell_type": "code",
   "execution_count": 14,
   "metadata": {},
   "outputs": [
    {
     "name": "stdout",
     "output_type": "stream",
     "text": [
      "False\n"
     ]
    }
   ],
   "source": [
    "disponivel =  False\n",
    "print(disponivel)"
   ]
  },
  {
   "cell_type": "code",
   "execution_count": 15,
   "metadata": {},
   "outputs": [
    {
     "name": "stdout",
     "output_type": "stream",
     "text": [
      "Digite alguma coisa11.40\n",
      "11.40 <class 'str'>\n"
     ]
    }
   ],
   "source": [
    "entrada_teclado =  input(\"Digite alguma coisa: \")\n",
    "print(entrada_teclado, type(entrada_teclado))"
   ]
  },
  {
   "cell_type": "code",
   "execution_count": 17,
   "metadata": {},
   "outputs": [
    {
     "name": "stdout",
     "output_type": "stream",
     "text": [
      "11.4 <class 'float'>\n"
     ]
    }
   ],
   "source": [
    "entrada_teclado = float(entrada_teclado)\n",
    "\n",
    "print(entrada_teclado, type(entrada_teclado))"
   ]
  },
  {
   "cell_type": "code",
   "execution_count": 18,
   "metadata": {},
   "outputs": [
    {
     "name": "stdout",
     "output_type": "stream",
     "text": [
      "Digite o montante investido: 50000\n",
      "Digite o salário do funcionario 1: 2500\n",
      "Digite o salário do funcionario 2: 3000\n",
      "Digite o valor de outros curstos mensais: 7500\n"
     ]
    }
   ],
   "source": [
    "caixa = 20000\n",
    "\n",
    "investimento = input(\"Digite o montante investido: \")\n",
    "investimento = float(investimento)\n",
    "\n",
    "funcionario1 = input(\"Digite o salário do funcionario 1: \")\n",
    "funcionario1 = float(funcionario1)\n",
    "\n",
    "funcionario2 = input(\"Digite o salário do funcionario 2: \")\n",
    "funcionario2 = float(funcionario2)\n",
    "\n",
    "custos_extras = input(\"Digite o valor de outros curstos mensais: \")\n",
    "custos_extras = float(custos_extras)"
   ]
  },
  {
   "cell_type": "code",
   "execution_count": 23,
   "metadata": {},
   "outputs": [
    {
     "name": "stdout",
     "output_type": "stream",
     "text": [
      "Ao final de três meses você terá 31000.0\n"
     ]
    }
   ],
   "source": [
    "custo_mensal = funcionario1 + funcionario2 + custos_extras\n",
    "custo_trimestral = 3 * custo_mensal\n",
    "\n",
    "resultado = caixa + investimento - custo_trimestral\n",
    "\n",
    "print(\"Ao final de três meses você terá\", resultado)"
   ]
  },
  {
   "cell_type": "code",
   "execution_count": 5,
   "metadata": {},
   "outputs": [
    {
     "name": "stdout",
     "output_type": "stream",
     "text": [
      "True\n",
      "False\n",
      "False\n",
      "True\n"
     ]
    }
   ],
   "source": [
    "variavel1 = 20\n",
    "variavel2 = 10\n",
    "\n",
    "print(variavel1 > variavel2)\n",
    "\n",
    "print(variavel1 < variavel2)\n",
    "\n",
    "print(variavel1 == variavel2)\n",
    "\n",
    "print(variavel1 != variavel2)\n",
    "\n",
    "\n",
    "\n"
   ]
  },
  {
   "cell_type": "code",
   "execution_count": 6,
   "metadata": {},
   "outputs": [
    {
     "name": "stdout",
     "output_type": "stream",
     "text": [
      "Ok.\n"
     ]
    }
   ],
   "source": [
    "if variavel1 > variavel2:\n",
    "    print(\"Ok.\")"
   ]
  },
  {
   "cell_type": "code",
   "execution_count": 1,
   "metadata": {},
   "outputs": [
    {
     "name": "stdout",
     "output_type": "stream",
     "text": [
      "Digite o valor do computador recomendado: 2550\n",
      "Não compre.\n"
     ]
    }
   ],
   "source": [
    "valor_computador = input(\"Digite o valor do computador recomendado: \")\n",
    "valor_computador = float(valor_computador)\n",
    "\n",
    "if valor_computador > 2500.0:\n",
    "    print(\"Não compre.\")\n",
    "else:\n",
    "    print(\"Voce pode comprar, está dentro do seu orçamento.\")"
   ]
  },
  {
   "cell_type": "code",
   "execution_count": 13,
   "metadata": {},
   "outputs": [
    {
     "name": "stdout",
     "output_type": "stream",
     "text": [
      "Digite o valor do computador recomendado: 2300\n",
      "Voce pode comprar, está dentro do seu orçamento.\n"
     ]
    }
   ],
   "source": [
    "valor_computador = input(\"Digite o valor do computador recomendado: \")\n",
    "valor_computador = float(valor_computador)\n",
    "\n",
    "if valor_computador <= 2500.0:\n",
    "    print(\"Voce pode comprar, está dentro do seu orçamento.\")\n",
    "elif valor_computador < 2600.0:\n",
    "    print(\"Aguarde, o preço pode abaixar.\")\n",
    "else:\n",
    "    print(\"Esse computador está fora do nosso orçamento.\")"
   ]
  },
  {
   "cell_type": "code",
   "execution_count": 15,
   "metadata": {},
   "outputs": [
    {
     "name": "stdout",
     "output_type": "stream",
     "text": [
      "1\n",
      "2\n",
      "3\n",
      "4\n",
      "5\n",
      "6\n",
      "7\n",
      "8\n",
      "9\n",
      "10\n",
      "11\n",
      "12\n",
      "13\n",
      "14\n",
      "15\n",
      "16\n",
      "17\n",
      "18\n",
      "19\n",
      "20\n",
      "21\n",
      "22\n",
      "23\n",
      "24\n",
      "25\n",
      "26\n",
      "27\n",
      "28\n",
      "29\n",
      "30\n",
      "31\n",
      "32\n",
      "33\n",
      "34\n",
      "35\n",
      "36\n",
      "37\n",
      "38\n",
      "39\n",
      "40\n",
      "41\n",
      "42\n",
      "43\n",
      "44\n",
      "45\n",
      "46\n",
      "47\n",
      "48\n",
      "49\n",
      "50\n",
      "51\n",
      "52\n",
      "53\n",
      "54\n",
      "55\n",
      "56\n",
      "57\n",
      "58\n",
      "59\n",
      "60\n",
      "61\n",
      "62\n",
      "63\n",
      "64\n",
      "65\n",
      "66\n",
      "67\n",
      "68\n",
      "69\n",
      "70\n",
      "71\n",
      "72\n",
      "73\n",
      "74\n",
      "75\n",
      "76\n",
      "77\n",
      "78\n",
      "79\n",
      "80\n",
      "81\n",
      "82\n",
      "83\n",
      "84\n",
      "85\n",
      "86\n",
      "87\n",
      "88\n",
      "89\n",
      "90\n",
      "91\n",
      "92\n",
      "93\n",
      "94\n",
      "95\n",
      "96\n",
      "97\n",
      "98\n",
      "99\n",
      "100\n"
     ]
    }
   ],
   "source": [
    "quantidades = 100\n",
    "baloes_enchidos = 0\n",
    "\n",
    "while baloes_enchidos < quantidades:\n",
    "    baloes_enchidos = baloes_enchidos + 1\n",
    "    print(baloes_enchidos)"
   ]
  },
  {
   "cell_type": "markdown",
   "metadata": {},
   "source": [
    "capital = \"Belo Horizonte\"\n",
    "resposta = input(\"Qual a capital de Minas gerais? \")\n",
    "\n",
    "while resposta != capital:\n",
    "    resposta = input(\"Você errou, tente novamente. \")\n",
    "    "
   ]
  },
  {
   "cell_type": "code",
   "execution_count": 40,
   "metadata": {},
   "outputs": [
    {
     "name": "stdout",
     "output_type": "stream",
     "text": [
      "Qual a capital de Minas Gerais? belem\n",
      "Voce errou. Tente novamente. Belo Horizonte\n"
     ]
    }
   ],
   "source": [
    "capital = \"Belo Horizonte\"\n",
    "\n",
    "resposta = input(\"Qual a capital de Minas Gerais? \")\n",
    "\n",
    "while resposta != capital:\n",
    "    resposta = input(\"Voce errou. Tente novamente. \")\n"
   ]
  },
  {
   "cell_type": "code",
   "execution_count": 18,
   "metadata": {},
   "outputs": [],
   "source": [
    "nomes_de_empresas = [\"Revista Exame\", \"Let's Code\", \"Google\", \"Nasa\"]"
   ]
  },
  {
   "cell_type": "code",
   "execution_count": 19,
   "metadata": {},
   "outputs": [
    {
     "name": "stdout",
     "output_type": "stream",
     "text": [
      "['Revista Exame', \"Let's Code\", 'Google', 'Nasa']\n"
     ]
    }
   ],
   "source": [
    "print(nomes_de_empresas)"
   ]
  },
  {
   "cell_type": "code",
   "execution_count": 24,
   "metadata": {},
   "outputs": [
    {
     "name": "stdout",
     "output_type": "stream",
     "text": [
      "Nasa\n"
     ]
    }
   ],
   "source": [
    "print(nomes_de_empresas[3])"
   ]
  },
  {
   "cell_type": "code",
   "execution_count": 26,
   "metadata": {},
   "outputs": [
    {
     "data": {
      "text/plain": [
       "4"
      ]
     },
     "execution_count": 26,
     "metadata": {},
     "output_type": "execute_result"
    }
   ],
   "source": [
    "len(nomes_de_empresas)"
   ]
  },
  {
   "cell_type": "code",
   "execution_count": 31,
   "metadata": {},
   "outputs": [],
   "source": [
    "nomes_de_empresas = []"
   ]
  },
  {
   "cell_type": "code",
   "execution_count": 32,
   "metadata": {},
   "outputs": [],
   "source": [
    "nomes_de_empresas.append(\"Resvista Exame\")\n"
   ]
  },
  {
   "cell_type": "code",
   "execution_count": 39,
   "metadata": {},
   "outputs": [
    {
     "name": "stdout",
     "output_type": "stream",
     "text": [
      "['Resvista Exame', \"Let's Code\"]\n"
     ]
    }
   ],
   "source": [
    "print(nomes_de_empresas)"
   ]
  },
  {
   "cell_type": "code",
   "execution_count": 36,
   "metadata": {},
   "outputs": [],
   "source": [
    "nomes_de_empresas.append(\"Let's Code\")"
   ]
  },
  {
   "cell_type": "code",
   "execution_count": 40,
   "metadata": {},
   "outputs": [],
   "source": [
    "nomes_de_empresas.insert(0, \"Google\")\n"
   ]
  },
  {
   "cell_type": "code",
   "execution_count": 41,
   "metadata": {},
   "outputs": [
    {
     "name": "stdout",
     "output_type": "stream",
     "text": [
      "['Google', 'Resvista Exame', \"Let's Code\"]\n"
     ]
    }
   ],
   "source": [
    "print(nomes_de_empresas)"
   ]
  },
  {
   "cell_type": "code",
   "execution_count": 42,
   "metadata": {},
   "outputs": [],
   "source": [
    "nomes_de_empresas.remove(\"Google\")"
   ]
  },
  {
   "cell_type": "code",
   "execution_count": 44,
   "metadata": {},
   "outputs": [
    {
     "data": {
      "text/plain": [
       "\"Let's Code\""
      ]
     },
     "execution_count": 44,
     "metadata": {},
     "output_type": "execute_result"
    }
   ],
   "source": [
    "nomes_de_empresas.pop()"
   ]
  },
  {
   "cell_type": "code",
   "execution_count": 45,
   "metadata": {},
   "outputs": [
    {
     "name": "stdout",
     "output_type": "stream",
     "text": [
      "['Resvista Exame']\n"
     ]
    }
   ],
   "source": [
    "print(nomes_de_empresas)"
   ]
  },
  {
   "cell_type": "code",
   "execution_count": 3,
   "metadata": {},
   "outputs": [
    {
     "name": "stdout",
     "output_type": "stream",
     "text": [
      "990000\n",
      "2970000\n"
     ]
    }
   ],
   "source": [
    "jan = 420000\n",
    "fev = 260000\n",
    "mar = 310000\n",
    "\n",
    "custo_mensal = jan + fev + mar\n",
    "custo_trimestral = 3 * custo_mensal\n",
    "\n",
    "print(custo_mensal)\n",
    "print(custo_trimestral)"
   ]
  },
  {
   "cell_type": "code",
   "execution_count": 14,
   "metadata": {
    "scrolled": true
   },
   "outputs": [
    {
     "name": "stdout",
     "output_type": "stream",
     "text": [
      "False\n",
      "True\n",
      "False\n"
     ]
    }
   ],
   "source": [
    "empresa1 = 15\n",
    "empresa2 = 200\n",
    "empresa3 = 550\n",
    "\n",
    "print(empresa1 >= 100 and empresa1 <= 499)\n",
    "print(empresa2 >= 100 and empresa2 <= 499)\n",
    "print(empresa3 >= 100 and empresa3 <= 499)"
   ]
  },
  {
   "cell_type": "code",
   "execution_count": 3,
   "metadata": {},
   "outputs": [
    {
     "name": "stdout",
     "output_type": "stream",
     "text": [
      "Informe um número: 21\n",
      "O número é impar\n"
     ]
    }
   ],
   "source": [
    "# Aquecendo os motores: você deve receber uma entrada numérica do usuário e avaliar se o número recebido é par ou impar, imprimindo o resultado.\n",
    "\n",
    "valor = float(input(\"Informe um número: \"))\n",
    "\n",
    "if (valor % 2) == 0:\n",
    "    print(\"O número é Par\")\n",
    "else:\n",
    "    print(\"O número é impar\")"
   ]
  },
  {
   "cell_type": "code",
   "execution_count": 5,
   "metadata": {},
   "outputs": [
    {
     "name": "stdout",
     "output_type": "stream",
     "text": [
      "Informe um número: 16\n",
      "Nenhuma condição foi atendida\n"
     ]
    }
   ],
   "source": [
    "#Para uma entrada que vamos receber do usuário, temos que verificar duas condições:\n",
    "    #O valor de entrada é maior que 20;\n",
    "    #O resto da divisão do valor de entrada por 3 é zero.\n",
    "#A ideia agora é avisar se:\n",
    "    #Pelo menos uma das condições foi atingida.\n",
    "    #Nenhuma das condições foi atingida.\n",
    "\n",
    "    \n",
    "numero_informado = float(input(\"Informe um número: \"))\n",
    "\n",
    "if (numero_informado > 20) or (numero_informado % 3) == 0:\n",
    "    print(\"Pelo menos uma das condições foi atingida.\")\n",
    "else:\n",
    "    print(\"Nenhuma condição foi atendida\")"
   ]
  },
  {
   "cell_type": "code",
   "execution_count": null,
   "metadata": {},
   "outputs": [],
   "source": [
    "#Agora a tarefa é receber três valores numéricos e imprimir o maior deles.\n",
    "\n",
    "#numero1 = input(\"Informe o 1° número: \")\n",
    "#numero2 = input(\"Informe o 2° número: \")\n",
    "#numero3 = input(\"Informe o 3° número: \")\n",
    "#maior = 0\n",
    "\n",
    "#if numero1 > numero2 and numero1 > numero3:\n",
    "#    print(\"O Maior número é: \", numero1)\n",
    "#elif numero2 > numero1 and numero2 > numero3:\n",
    "#    print(\"O Maior número é: \", numero2)\n",
    "#elif numero3 > numero1 and numero3 > numero2:\n",
    "#    print(\"O Maior número é: \", numero3)\n",
    "\n",
    "\n",
    "numero1 = float(input(\"Digite o primeiro número: \"))\n",
    "numero2 = float(input(\"Digite o segundo número: \"))\n",
    "numero3 = float(input(\"Digite o terceiro número: \"))\n",
    "maior = 0\n",
    "\n",
    "if numero1 > numero2 and numero1 > numero3:\n",
    "    maior = numero1\n",
    "elif numero2 > numero1 and numero2 > numero3:\n",
    "    maior = numero2\n",
    "else:\n",
    "    maior = numero3\n",
    "\n",
    "print(\"O maior número é:\", maior)\n",
    "\n"
   ]
  },
  {
   "cell_type": "code",
   "execution_count": null,
   "metadata": {},
   "outputs": [],
   "source": [
    "#á vimos que um dos meios de classificar o porte da empresa é pelo número de funcionários. Relembrando a classificação feita pelo IBGE temos:          \n",
    "#Micro\taté 19\n",
    "#Pequena\t20 a 99\n",
    "#Média\t100 a 499\n",
    "#Grande\tmais de 500\n",
    "#Dada essa classificação, analise se uma empresa é de micro, pequeno, médio ou grande porte a partir de um valor de entrada de sua escolha. Faça uso da função input se preferir.\n",
    "\n",
    "num = float(input(\"Informe um número: \"))\n",
    "\n",
    "\n",
    "if num <= 19 :\n",
    "    print(\"Micro empresa\")\n",
    "elif num >= 20 and num <= 99:\n",
    "    print(\"Pequena empresa\")\n",
    "elif num >= 100 and num <= 499:\n",
    "    print(\"Empresa de médio porte.\")\n",
    "elif num >=  500 :\n",
    "    print(\"Empresa de grade porte.\")\n",
    "        \n",
    "\n",
    "\n",
    "\n"
   ]
  },
  {
   "cell_type": "code",
   "execution_count": 1,
   "metadata": {},
   "outputs": [
    {
     "name": "stdout",
     "output_type": "stream",
     "text": [
      "2\n",
      "4\n",
      "6\n",
      "8\n",
      "10\n"
     ]
    }
   ],
   "source": [
    "#1.Crie um laço que imprima todos os números pares entre 0 e 10. \n",
    "\n",
    "\n",
    "num = 10\n",
    "cont = 0\n",
    "\n",
    "while cont < num:\n",
    "    cont = cont + 2\n",
    "    print(cont)\n",
    "   \n",
    "    \n"
   ]
  },
  {
   "cell_type": "code",
   "execution_count": null,
   "metadata": {},
   "outputs": [],
   "source": [
    "#2. Agora a ideia é contar quantos números divisíveis por três, \n",
    "#ou seja a divisão por 3 tem resto zero, existem \n",
    "#entre 800 e 2400. Lembrando que o operador que retorna o resto \n",
    "#da divisão entre dois números é o %.. \n",
    "\n",
    "\n",
    "cont = 800\n",
    "ate = 2400\n",
    "\n",
    "\n",
    "#while (cont >= 800 and <= 2400):\n",
    "while (cont %3 == 0 <= ate):\n",
    "    cont = cont+1\n",
    "    print(cont)\n",
    "\n",
    "\n",
    "\n",
    "\n"
   ]
  },
  {
   "cell_type": "code",
   "execution_count": null,
   "metadata": {},
   "outputs": [],
   "source": [
    "#3. Agora vamos criar um jogo de adivinhação. Você, \n",
    "#desenvolvedor, vai definir uma variavel numero_escolhido com \n",
    "#um valor fixo. Com auxílio de um loop de repetição, o usuário \n",
    "#tentará adivinhá-lo e, até acertar, receberá dicas de acordo \n",
    "#com o seu palpite:\n",
    "\n",
    "numero_escolhido = 15\n",
    "palpite = input(\"Digite um palpite para o número escolhido: \")\n",
    "\n",
    "while palpite < numero_escolhido:\n",
    "    palpite = input(\"O número escolhido é maior, tente novamente: \")\n",
    "else \n",
    "           \n",
    "           \n",
    "           \n",
    "           \n",
    "capital = \"Belo Horizonte\"\n",
    "resposta = input(\"Qual a capital de Minas Gerais? \")\n",
    "\n",
    "while resposta != capital:\n",
    "    resposta = input(\"Voce errou. Tente novamente. \")"
   ]
  }
 ],
 "metadata": {
  "kernelspec": {
   "display_name": "Python 3",
   "language": "python",
   "name": "python3"
  },
  "language_info": {
   "codemirror_mode": {
    "name": "ipython",
    "version": 3
   },
   "file_extension": ".py",
   "mimetype": "text/x-python",
   "name": "python",
   "nbconvert_exporter": "python",
   "pygments_lexer": "ipython3",
   "version": "3.9.1"
  }
 },
 "nbformat": 4,
 "nbformat_minor": 4
}
