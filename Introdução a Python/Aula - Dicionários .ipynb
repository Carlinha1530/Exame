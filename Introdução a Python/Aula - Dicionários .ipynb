{
 "cells": [
  {
   "cell_type": "code",
   "execution_count": 1,
   "metadata": {},
   "outputs": [],
   "source": [
    "startup1 = {\n",
    "    \"nome\": \"PyCoders\",\n",
    "    \"industria\": \"Tecnologia e Desenvolvimento\",\n",
    "    \"localização\": \"São Paulo\",\n",
    "    \"investidor\": \"Revista Exame\",\n",
    "    \"total_investimento\": \"50000.00\"\n",
    "}"
   ]
  },
  {
   "cell_type": "code",
   "execution_count": 2,
   "metadata": {},
   "outputs": [
    {
     "name": "stdout",
     "output_type": "stream",
     "text": [
      "{'nome': 'PyCoders', 'industria': 'Tecnologia e Desenvolvimento', 'localização': 'São Paulo', 'investidor': 'Revista Exame', 'total_investimento': '50000.00'}\n"
     ]
    }
   ],
   "source": [
    "print(startup1)"
   ]
  },
  {
   "cell_type": "code",
   "execution_count": 3,
   "metadata": {},
   "outputs": [
    {
     "name": "stdout",
     "output_type": "stream",
     "text": [
      "PyCoders\n"
     ]
    }
   ],
   "source": [
    "print(startup1[\"nome\"])"
   ]
  },
  {
   "cell_type": "code",
   "execution_count": 4,
   "metadata": {},
   "outputs": [],
   "source": [
    "startup1[\"pais\"] = \"Brasil\""
   ]
  },
  {
   "cell_type": "code",
   "execution_count": 5,
   "metadata": {},
   "outputs": [
    {
     "name": "stdout",
     "output_type": "stream",
     "text": [
      "{'nome': 'PyCoders', 'industria': 'Tecnologia e Desenvolvimento', 'localização': 'São Paulo', 'investidor': 'Revista Exame', 'total_investimento': '50000.00', 'pais': 'Brasil'}\n"
     ]
    }
   ],
   "source": [
    "print(startup1)"
   ]
  },
  {
   "cell_type": "code",
   "execution_count": 16,
   "metadata": {},
   "outputs": [],
   "source": [
    "#Criação de Dicionario vazio\n",
    "startup = {}"
   ]
  },
  {
   "cell_type": "code",
   "execution_count": 17,
   "metadata": {},
   "outputs": [],
   "source": [
    "startup[\"nome\"] = \"PyCoders LTTDA\""
   ]
  },
  {
   "cell_type": "code",
   "execution_count": 18,
   "metadata": {},
   "outputs": [],
   "source": [
    "startup[\"localizacao\"] = \"São Paulo\""
   ]
  },
  {
   "cell_type": "code",
   "execution_count": 19,
   "metadata": {},
   "outputs": [],
   "source": [
    "startup[\"pais\"] = \"Brasil\""
   ]
  },
  {
   "cell_type": "code",
   "execution_count": 20,
   "metadata": {},
   "outputs": [
    {
     "name": "stdout",
     "output_type": "stream",
     "text": [
      "{'nome': 'PyCoders LTTDA', 'localizacao': 'São Paulo', 'pais': 'Brasil'}\n"
     ]
    }
   ],
   "source": [
    "print(startup)"
   ]
  },
  {
   "cell_type": "code",
   "execution_count": 21,
   "metadata": {},
   "outputs": [],
   "source": [
    "#Alterar\n",
    "startup[\"nome\"] = \"JavaCoders\""
   ]
  },
  {
   "cell_type": "code",
   "execution_count": 22,
   "metadata": {},
   "outputs": [
    {
     "name": "stdout",
     "output_type": "stream",
     "text": [
      "{'nome': 'JavaCoders', 'localizacao': 'São Paulo', 'pais': 'Brasil'}\n"
     ]
    }
   ],
   "source": [
    "print(startup)"
   ]
  },
  {
   "cell_type": "code",
   "execution_count": 23,
   "metadata": {},
   "outputs": [],
   "source": [
    "#Criação de copia do Dicionario startup\n",
    "startup2 = startup1.copy()"
   ]
  },
  {
   "cell_type": "code",
   "execution_count": 25,
   "metadata": {},
   "outputs": [
    {
     "name": "stdout",
     "output_type": "stream",
     "text": [
      "{'nome': 'PyCoders', 'industria': 'Tecnologia e Desenvolvimento', 'localização': 'São Paulo', 'investidor': 'Revista Exame', 'total_investimento': '50000.00', 'pais': 'Brasil'}\n"
     ]
    }
   ],
   "source": [
    "print(startup2)"
   ]
  },
  {
   "cell_type": "code",
   "execution_count": 26,
   "metadata": {},
   "outputs": [],
   "source": [
    "#alteração da chave nome na copia do dicionario\n",
    "startup2[\"nome\"] = \"C Coders\""
   ]
  },
  {
   "cell_type": "code",
   "execution_count": 28,
   "metadata": {},
   "outputs": [
    {
     "name": "stdout",
     "output_type": "stream",
     "text": [
      "{'nome': 'PyCoders', 'industria': 'Tecnologia e Desenvolvimento', 'localização': 'São Paulo', 'investidor': 'Revista Exame', 'total_investimento': '50000.00', 'pais': 'Brasil'}\n",
      "{'nome': 'C Coders', 'industria': 'Tecnologia e Desenvolvimento', 'localização': 'São Paulo', 'investidor': 'Revista Exame', 'total_investimento': '50000.00', 'pais': 'Brasil'}\n"
     ]
    }
   ],
   "source": [
    "print(startup1)\n",
    "print(startup2)"
   ]
  },
  {
   "cell_type": "code",
   "execution_count": 29,
   "metadata": {},
   "outputs": [],
   "source": [
    "#Atualização do dicionario startup1\n",
    "startup1.update({\n",
    "    \"cnpj\": \"00000000000\",\n",
    "    \"razao_social\": \"Empresa de tecnologia\",\n",
    "    \"localização\": \"Rio de Janeiro\"\n",
    "})"
   ]
  },
  {
   "cell_type": "code",
   "execution_count": 30,
   "metadata": {},
   "outputs": [
    {
     "name": "stdout",
     "output_type": "stream",
     "text": [
      "{'nome': 'PyCoders', 'industria': 'Tecnologia e Desenvolvimento', 'localização': 'Rio de Janeiro', 'investidor': 'Revista Exame', 'total_investimento': '50000.00', 'pais': 'Brasil', 'cnpj': '00000000000', 'razao_social': 'Empresa de tecnologia'}\n"
     ]
    }
   ],
   "source": [
    "print(startup1)"
   ]
  },
  {
   "cell_type": "code",
   "execution_count": 31,
   "metadata": {},
   "outputs": [
    {
     "name": "stdout",
     "output_type": "stream",
     "text": [
      "PyCoders\n"
     ]
    }
   ],
   "source": [
    "#retorna o valor da chave\n",
    "print(startup1.get(\"nome\"))"
   ]
  },
  {
   "cell_type": "code",
   "execution_count": 32,
   "metadata": {},
   "outputs": [
    {
     "name": "stdout",
     "output_type": "stream",
     "text": [
      "None\n"
     ]
    }
   ],
   "source": [
    "print(startup1.get(\"n_funcionarios\"))"
   ]
  },
  {
   "cell_type": "code",
   "execution_count": 33,
   "metadata": {},
   "outputs": [
    {
     "name": "stdout",
     "output_type": "stream",
     "text": [
      "dict_keys(['nome', 'industria', 'localização', 'investidor', 'total_investimento', 'pais', 'cnpj', 'razao_social'])\n"
     ]
    }
   ],
   "source": [
    "print(startup1.keys())"
   ]
  },
  {
   "cell_type": "code",
   "execution_count": 35,
   "metadata": {},
   "outputs": [
    {
     "name": "stdout",
     "output_type": "stream",
     "text": [
      "['nome', 'industria', 'localização', 'investidor', 'total_investimento', 'pais', 'cnpj', 'razao_social']\n"
     ]
    }
   ],
   "source": [
    "#casting para o tipo lista\n",
    "print(list(startup1.keys()))"
   ]
  },
  {
   "cell_type": "code",
   "execution_count": 36,
   "metadata": {},
   "outputs": [
    {
     "name": "stdout",
     "output_type": "stream",
     "text": [
      "True\n"
     ]
    }
   ],
   "source": [
    "#Verificando na lista se o nome faz parte da lista\n",
    "print(\"nome\" in startup1.keys())"
   ]
  },
  {
   "cell_type": "code",
   "execution_count": 37,
   "metadata": {},
   "outputs": [
    {
     "name": "stdout",
     "output_type": "stream",
     "text": [
      "dict_values(['PyCoders', 'Tecnologia e Desenvolvimento', 'Rio de Janeiro', 'Revista Exame', '50000.00', 'Brasil', '00000000000', 'Empresa de tecnologia'])\n"
     ]
    }
   ],
   "source": [
    "#Busca os valores de cada chave\n",
    "print(startup1.values())"
   ]
  },
  {
   "cell_type": "code",
   "execution_count": 38,
   "metadata": {},
   "outputs": [
    {
     "name": "stdout",
     "output_type": "stream",
     "text": [
      "dict_items([('nome', 'PyCoders'), ('industria', 'Tecnologia e Desenvolvimento'), ('localização', 'Rio de Janeiro'), ('investidor', 'Revista Exame'), ('total_investimento', '50000.00'), ('pais', 'Brasil'), ('cnpj', '00000000000'), ('razao_social', 'Empresa de tecnologia')])\n"
     ]
    }
   ],
   "source": [
    "#retorna par a par chave e valor\n",
    "print(startup1.items())"
   ]
  },
  {
   "cell_type": "code",
   "execution_count": 55,
   "metadata": {},
   "outputs": [],
   "source": [
    "#Exercicio Dicionario\n",
    "\n",
    "startup = { \n",
    "    \"nome\":\"Let's Code\",\n",
    "    \"industria\": \"Educação\",\n",
    "    \"localizacao\": \"São Paulo\",\n",
    "    \"num_funcionarios\": \"50\"\n",
    "}"
   ]
  },
  {
   "cell_type": "code",
   "execution_count": 50,
   "metadata": {},
   "outputs": [],
   "source": [
    "#atualiza o valor para o tipo int\n",
    "startup.update({\"num_funcionarios\":50})"
   ]
  },
  {
   "cell_type": "code",
   "execution_count": 44,
   "metadata": {},
   "outputs": [],
   "source": [
    "#atualiza o valor para o tipo int\n",
    "startup[\"num_funcionarios\"] = int(startup[\"num_funcionarios\"])"
   ]
  },
  {
   "cell_type": "code",
   "execution_count": 51,
   "metadata": {},
   "outputs": [
    {
     "name": "stdout",
     "output_type": "stream",
     "text": [
      "{'nome': \"Let's Code\", 'industria': 'Educação', 'localizacao': 'São Paulo', 'num_funcionarios': 50}\n"
     ]
    }
   ],
   "source": [
    "print(startup)"
   ]
  },
  {
   "cell_type": "code",
   "execution_count": 52,
   "metadata": {},
   "outputs": [
    {
     "name": "stdout",
     "output_type": "stream",
     "text": [
      "Educação\n"
     ]
    }
   ],
   "source": [
    "#imprimi o valor da chave\n",
    "print(startup.get(\"industria\"))"
   ]
  },
  {
   "cell_type": "code",
   "execution_count": 53,
   "metadata": {},
   "outputs": [],
   "source": [
    "startup[\"pais\"] = \"Brasil\""
   ]
  },
  {
   "cell_type": "code",
   "execution_count": 56,
   "metadata": {},
   "outputs": [
    {
     "name": "stdout",
     "output_type": "stream",
     "text": [
      "{'nome': \"Let's Code\", 'industria': 'Educação', 'localizacao': 'São Paulo', 'num_funcionarios': '50'}\n"
     ]
    }
   ],
   "source": [
    "print(startup)"
   ]
  },
  {
   "cell_type": "code",
   "execution_count": 57,
   "metadata": {},
   "outputs": [
    {
     "name": "stdout",
     "output_type": "stream",
     "text": [
      "None\n"
     ]
    }
   ],
   "source": [
    "print(startup.get(\"pais\"))"
   ]
  },
  {
   "cell_type": "code",
   "execution_count": 58,
   "metadata": {},
   "outputs": [],
   "source": [
    "startup[\"pais\"] = \"Brasil\""
   ]
  },
  {
   "cell_type": "code",
   "execution_count": 59,
   "metadata": {},
   "outputs": [
    {
     "name": "stdout",
     "output_type": "stream",
     "text": [
      "{'nome': \"Let's Code\", 'industria': 'Educação', 'localizacao': 'São Paulo', 'num_funcionarios': '50', 'pais': 'Brasil'}\n"
     ]
    }
   ],
   "source": [
    "print(startup)"
   ]
  },
  {
   "cell_type": "code",
   "execution_count": 60,
   "metadata": {},
   "outputs": [],
   "source": [
    "startup1 = { \n",
    "    \"nome\":\"Let's Code\",\n",
    "    \"industria\": \"Educação\",\n",
    "    \"localizacao\": \"São Paulo\"\n",
    "}"
   ]
  },
  {
   "cell_type": "code",
   "execution_count": 61,
   "metadata": {},
   "outputs": [],
   "source": [
    "startup2 = { \n",
    "    \"nome\":\"Google\",\n",
    "    \"industria\": \"Tecnologia\",\n",
    "    \"localizacao\": \"Califórnia\"\n",
    "}"
   ]
  },
  {
   "cell_type": "code",
   "execution_count": 63,
   "metadata": {},
   "outputs": [],
   "source": [
    "startups = {\n",
    "    \"1\": startup1,\n",
    "    \"2\": startup2\n",
    "}"
   ]
  },
  {
   "cell_type": "code",
   "execution_count": 64,
   "metadata": {},
   "outputs": [
    {
     "name": "stdout",
     "output_type": "stream",
     "text": [
      "{'1': {'nome': \"Let's Code\", 'industria': 'Educação', 'localizacao': 'São Paulo'}, '2': {'nome': 'Google', 'industria': 'Tecnologia', 'localizacao': 'Califórnia'}}\n"
     ]
    }
   ],
   "source": [
    "print(startups)"
   ]
  },
  {
   "cell_type": "code",
   "execution_count": null,
   "metadata": {},
   "outputs": [],
   "source": []
  }
 ],
 "metadata": {
  "kernelspec": {
   "display_name": "Python 3",
   "language": "python",
   "name": "python3"
  },
  "language_info": {
   "codemirror_mode": {
    "name": "ipython",
    "version": 3
   },
   "file_extension": ".py",
   "mimetype": "text/x-python",
   "name": "python",
   "nbconvert_exporter": "python",
   "pygments_lexer": "ipython3",
   "version": "3.9.1"
  }
 },
 "nbformat": 4,
 "nbformat_minor": 4
}
