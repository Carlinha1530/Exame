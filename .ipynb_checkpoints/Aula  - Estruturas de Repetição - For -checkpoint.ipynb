{
 "cells": [
  {
   "cell_type": "code",
   "execution_count": null,
   "metadata": {},
   "outputs": [],
   "source": [
    "#\n",
    "for valor in objeto_interavel:\n",
    "    print(valor)"
   ]
  },
  {
   "cell_type": "code",
   "execution_count": 1,
   "metadata": {},
   "outputs": [],
   "source": [
    "nomes_de_empresas = [\"Revista Exame\", \"Let's Code\", \"Google\", \"Nasa\"]"
   ]
  },
  {
   "cell_type": "markdown",
   "metadata": {},
   "source": [
    "#Exemplo de percorrer uma lista com while"
   ]
  },
  {
   "cell_type": "code",
   "execution_count": null,
   "metadata": {},
   "outputs": [],
   "source": [
    "#Exemplo de percorrer uma lista com while\n",
    "cont = 0\n",
    "while cont < len(nomes_de_empresas):\n",
    "    print(nomes_de_empresas[cont])\n",
    "    cont = cont+1"
   ]
  },
  {
   "cell_type": "markdown",
   "metadata": {},
   "source": [
    "#Exemplo de percorrer uma lista com for"
   ]
  },
  {
   "cell_type": "code",
   "execution_count": 3,
   "metadata": {},
   "outputs": [
    {
     "name": "stdout",
     "output_type": "stream",
     "text": [
      "Revista Exame\n",
      "Let's Code\n",
      "Google\n",
      "Nasa\n"
     ]
    }
   ],
   "source": [
    "#Exemplo de percorrer uma lista com for\n",
    "for nome in nomes_de_empresas:\n",
    "    print(nome)"
   ]
  },
  {
   "cell_type": "code",
   "execution_count": 4,
   "metadata": {},
   "outputs": [],
   "source": [
    "# percorrer com For em Tupla \n",
    "nomes_de_empresas = (\"Revista Exame\", \"Let's Code\", \"Google\", \"Nasa\")"
   ]
  },
  {
   "cell_type": "code",
   "execution_count": 5,
   "metadata": {},
   "outputs": [
    {
     "name": "stdout",
     "output_type": "stream",
     "text": [
      "Revista Exame\n",
      "Let's Code\n",
      "Google\n",
      "Nasa\n"
     ]
    }
   ],
   "source": [
    "for nome in nomes_de_empresas:\n",
    "    print(nome)"
   ]
  },
  {
   "cell_type": "code",
   "execution_count": 6,
   "metadata": {},
   "outputs": [],
   "source": [
    "# percorrer com For em Dicionarios\n",
    "startup = {\n",
    "    \"nome\": \"Let's Code\",\n",
    "    \"localizacao\": \"São Paulo\",\n",
    "    \"num_funcionarios\": \"50\"\n",
    "}"
   ]
  },
  {
   "cell_type": "code",
   "execution_count": 7,
   "metadata": {},
   "outputs": [
    {
     "name": "stdout",
     "output_type": "stream",
     "text": [
      "nome , Let's Code\n",
      "localizacao , São Paulo\n",
      "num_funcionarios , 50\n"
     ]
    }
   ],
   "source": [
    "for chave in startup:\n",
    "    print(chave, \",\", startup[chave])"
   ]
  },
  {
   "cell_type": "code",
   "execution_count": 8,
   "metadata": {},
   "outputs": [
    {
     "name": "stdout",
     "output_type": "stream",
     "text": [
      "0\n",
      "1\n",
      "2\n",
      "3\n",
      "4\n",
      "5\n",
      "6\n",
      "7\n",
      "8\n",
      "9\n"
     ]
    }
   ],
   "source": [
    "#EXERCICIO FOR I\n",
    "\n",
    "for i in range(10):\n",
    "    print(i)"
   ]
  },
  {
   "cell_type": "code",
   "execution_count": 10,
   "metadata": {},
   "outputs": [
    {
     "ename": "TypeError",
     "evalue": "object of type 'int' has no len()",
     "output_type": "error",
     "traceback": [
      "\u001b[1;31m---------------------------------------------------------------------------\u001b[0m",
      "\u001b[1;31mTypeError\u001b[0m                                 Traceback (most recent call last)",
      "\u001b[1;32m<ipython-input-10-472a6d1b7ec9>\u001b[0m in \u001b[0;36m<module>\u001b[1;34m\u001b[0m\n\u001b[1;32m----> 1\u001b[1;33m \u001b[1;32mfor\u001b[0m \u001b[0mi\u001b[0m \u001b[1;32min\u001b[0m \u001b[0mlen\u001b[0m\u001b[1;33m(\u001b[0m\u001b[1;36m10\u001b[0m\u001b[1;33m)\u001b[0m\u001b[1;33m:\u001b[0m\u001b[1;33m\u001b[0m\u001b[1;33m\u001b[0m\u001b[0m\n\u001b[0m\u001b[0;32m      2\u001b[0m     \u001b[0mprint\u001b[0m\u001b[1;33m(\u001b[0m\u001b[0mi\u001b[0m\u001b[1;33m)\u001b[0m\u001b[1;33m\u001b[0m\u001b[1;33m\u001b[0m\u001b[0m\n",
      "\u001b[1;31mTypeError\u001b[0m: object of type 'int' has no len()"
     ]
    }
   ],
   "source": [
    "for i in len(10):\n",
    "    print(i)"
   ]
  },
  {
   "cell_type": "code",
   "execution_count": 11,
   "metadata": {},
   "outputs": [],
   "source": [
    "# Estruturas de Repetição | For - III\n",
    "nomes_de_empresas = [\"Revista Exame\", \"Let's Code\", \"Google\", \"Nasa\"]"
   ]
  },
  {
   "cell_type": "code",
   "execution_count": 13,
   "metadata": {},
   "outputs": [
    {
     "name": "stdout",
     "output_type": "stream",
     "text": [
      "Revista Exame\n",
      "Let's Code\n",
      "Google\n",
      "Nasa\n"
     ]
    }
   ],
   "source": [
    "# usando as funções range() e len()\n",
    "for idx in range(len(nomes_de_empresas)):\n",
    "    print(nomes_de_empresas[idx])"
   ]
  },
  {
   "cell_type": "code",
   "execution_count": 14,
   "metadata": {},
   "outputs": [
    {
     "name": "stdout",
     "output_type": "stream",
     "text": [
      "0 : Revista Exame\n",
      "1 : Let's Code\n",
      "2 : Google\n",
      "3 : Nasa\n"
     ]
    }
   ],
   "source": [
    "for idx in range(len(nomes_de_empresas)):\n",
    "    print(idx,\":\",nomes_de_empresas[idx])"
   ]
  },
  {
   "cell_type": "code",
   "execution_count": 16,
   "metadata": {},
   "outputs": [
    {
     "name": "stdout",
     "output_type": "stream",
     "text": [
      "['Revista Exame', \"Let's Code\", 'Google', 'Nasa']\n"
     ]
    }
   ],
   "source": [
    "for nome in nomes_de_empresas:\n",
    "    nome = \"Let's Code\"\n",
    "    \n",
    "print(nomes_de_empresas)"
   ]
  },
  {
   "cell_type": "code",
   "execution_count": 18,
   "metadata": {},
   "outputs": [
    {
     "name": "stdout",
     "output_type": "stream",
     "text": [
      "[\"Let's Code\", \"Let's Code\", \"Let's Code\", \"Let's Code\"]\n"
     ]
    }
   ],
   "source": [
    "# alterando todos os elementos da lista para \"Let's Code\"\n",
    "for idx in range(len(nomes_de_empresas)):\n",
    "    nomes_de_empresas[idx] =  \"Let's Code\"\n",
    "    \n",
    "print(nomes_de_empresas)"
   ]
  },
  {
   "cell_type": "code",
   "execution_count": 27,
   "metadata": {},
   "outputs": [],
   "source": [
    "#EXERCICIO FOR II\n",
    "nomes_empresas1 = [\"LET'S CODE\", \"GOOGLE\", \"REVISTA EXAME\", \"NASA\"]"
   ]
  },
  {
   "cell_type": "code",
   "execution_count": 28,
   "metadata": {},
   "outputs": [
    {
     "ename": "NameError",
     "evalue": "name 'nomes_de_empresas1' is not defined",
     "output_type": "error",
     "traceback": [
      "\u001b[1;31m---------------------------------------------------------------------------\u001b[0m",
      "\u001b[1;31mNameError\u001b[0m                                 Traceback (most recent call last)",
      "\u001b[1;32m<ipython-input-28-050689045564>\u001b[0m in \u001b[0;36m<module>\u001b[1;34m\u001b[0m\n\u001b[1;32m----> 1\u001b[1;33m \u001b[1;32mfor\u001b[0m \u001b[0mnome\u001b[0m \u001b[1;32min\u001b[0m \u001b[0mnomes_de_empresas1\u001b[0m\u001b[1;33m:\u001b[0m\u001b[1;33m\u001b[0m\u001b[1;33m\u001b[0m\u001b[0m\n\u001b[0m\u001b[0;32m      2\u001b[0m     \u001b[0mprint\u001b[0m\u001b[1;33m(\u001b[0m\u001b[0mnome\u001b[0m\u001b[1;33m.\u001b[0m\u001b[0mlower\u001b[0m\u001b[1;33m(\u001b[0m\u001b[1;33m)\u001b[0m\u001b[1;33m)\u001b[0m\u001b[1;33m\u001b[0m\u001b[1;33m\u001b[0m\u001b[0m\n",
      "\u001b[1;31mNameError\u001b[0m: name 'nomes_de_empresas1' is not defined"
     ]
    }
   ],
   "source": [
    "for nome in nomes_de_empresas1:\n",
    "    print(nome.lower())"
   ]
  },
  {
   "cell_type": "markdown",
   "metadata": {},
   "source": [
    "Considerando a lista nomes_empresas1 = [\"LET'S CODE\", \"GOOGLE\", \"REVISTA EXAME\", \"NASA\"]. seu trabalho é utilizar o for para alterar todos os valores para letras minusculas"
   ]
  },
  {
   "cell_type": "code",
   "execution_count": 29,
   "metadata": {},
   "outputs": [],
   "source": [
    "empresas = [\"LET'S CODE\", \"GOOGLE\", \"REVISTA EXAME\", \"NASA\"]"
   ]
  },
  {
   "cell_type": "code",
   "execution_count": 30,
   "metadata": {
    "scrolled": true
   },
   "outputs": [
    {
     "name": "stdout",
     "output_type": "stream",
     "text": [
      "let's code\n",
      "google\n",
      "revista exame\n",
      "nasa\n"
     ]
    }
   ],
   "source": [
    "for nome in empresas:\n",
    "    print(nome.lower())"
   ]
  },
  {
   "cell_type": "markdown",
   "metadata": {},
   "source": [
    "Considerando a lista numeros = [1, 2, 5, 8, 16, 24, 39, 47, 52, 63]. Seu trabalho é utilizar o for para contar quantos numeros dessa lista são pares e imprimir esse valor."
   ]
  },
  {
   "cell_type": "code",
   "execution_count": 35,
   "metadata": {},
   "outputs": [],
   "source": [
    "numeros = [1, 2, 5, 8, 16, 24, 39, 47, 52, 63]"
   ]
  },
  {
   "cell_type": "code",
   "execution_count": 37,
   "metadata": {},
   "outputs": [
    {
     "name": "stdout",
     "output_type": "stream",
     "text": [
      "Números pares:  5\n"
     ]
    }
   ],
   "source": [
    "quantidade_par = 0\n",
    "\n",
    "for valor in numeros:\n",
    "    if valor%2 == 0:\n",
    "        quantidade_par += 1\n",
    "\n",
    "print(\"Números pares: \", quantidade_par)\n"
   ]
  },
  {
   "cell_type": "code",
   "execution_count": null,
   "metadata": {},
   "outputs": [],
   "source": []
  }
 ],
 "metadata": {
  "kernelspec": {
   "display_name": "Python 3",
   "language": "python",
   "name": "python3"
  },
  "language_info": {
   "codemirror_mode": {
    "name": "ipython",
    "version": 3
   },
   "file_extension": ".py",
   "mimetype": "text/x-python",
   "name": "python",
   "nbconvert_exporter": "python",
   "pygments_lexer": "ipython3",
   "version": "3.9.1"
  }
 },
 "nbformat": 4,
 "nbformat_minor": 4
}
